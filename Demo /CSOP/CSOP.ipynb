{
 "cells": [
  {
   "cell_type": "markdown",
   "metadata": {},
   "source": [
    "# 1. Data Preprocessing"
   ]
  },
  {
   "cell_type": "code",
   "execution_count": 13,
   "metadata": {},
   "outputs": [],
   "source": [
    "# Import libraries\n",
    "import numpy as np\n",
    "import pandas as pd \n",
    "from ortools.sat.python import cp_model"
   ]
  },
  {
   "cell_type": "code",
   "execution_count": 14,
   "metadata": {},
   "outputs": [],
   "source": [
    "# Read Data \n",
    "def read_data(file):\n",
    "    with open(file, 'r') as file:\n",
    "        # read first line \n",
    "        n, d, a, b = [int(x) for x in file.readline().split()] \n",
    "\n",
    "        # Matrix (n,d) full 0, if staff i rest day d(i) -> convert to 1 \n",
    "        F = np.full((n, d), 0)  \n",
    "        for staff in range(n):\n",
    "            # read each line to end, [:-1] bcs end of each line is -1 \n",
    "            temp = [int(x) for x in file.readline().split()[:-1]]  #check each line from 2 -> i+1\n",
    "            for day in temp:\n",
    "                F[staff, day-1] = 1 # day-1 bcs index of list\n",
    "    return n, d, a, b, F\n",
    "\n",
    "# Input \n",
    "n, d, a, b, F = read_data(\"data_18.txt\")"
   ]
  },
  {
   "cell_type": "code",
   "execution_count": 17,
   "metadata": {},
   "outputs": [
    {
     "name": "stdout",
     "output_type": "stream",
     "text": [
      "Number of Staffs: 9\n",
      "Number of Days: 5\n",
      "Range staffs of a shift: 1 -> 3\n",
      "List rest day of staff i:\n",
      "[[0 0 0 0 0]\n",
      " [0 0 0 1 0]\n",
      " [0 0 0 0 0]\n",
      " [0 0 0 0 0]\n",
      " [0 0 0 0 0]\n",
      " [0 0 0 0 0]\n",
      " [0 0 0 0 0]\n",
      " [0 0 0 0 1]\n",
      " [0 0 0 0 0]]\n"
     ]
    }
   ],
   "source": [
    "print(\"Number of Staffs: {}\\nNumber of Days: {}\\nRange staffs of a shift: {} -> {}\\nList rest day of staff i:\\n{}\".format(n,d,a,b,F))"
   ]
  },
  {
   "cell_type": "markdown",
   "metadata": {},
   "source": [
    "# 2. CSOP\n"
   ]
  },
  {
   "cell_type": "code",
   "execution_count": 22,
   "metadata": {},
   "outputs": [],
   "source": [
    "# Declare the Model \n",
    "model = cp_model.CpModel()\n",
    "\n",
    "# Create the Variables\n",
    "# X[staff, day, shift] = 1 if staff i work on phase k of day j \n",
    "# X[staff, day, shift] = 0, otw\n",
    "X = {} \n",
    "for staff in range(n):\n",
    "    for day in range(d):\n",
    "        for shift in range(1,5):\n",
    "            X[staff, day, shift] = model.NewIntVar(0,1,\"X[{},{},{}]\".format(staff,day,shift))"
   ]
  },
  {
   "cell_type": "code",
   "execution_count": 23,
   "metadata": {},
   "outputs": [],
   "source": [
    "# Each day, an employee can only work one shift at most\n",
    "# If you work the night shift the day before, you can rest the next day\n",
    "for staff in range(n):\n",
    "    for day in range(d):\n",
    "        if F[staff, day] == 0:\n",
    "            if day == 0:\n",
    "                model.Add(sum([X[staff, day, shift] for shift in range(1,5)]) == 1)\n",
    "            else:\n",
    "                model.Add(sum([X[staff, day, shift] for shift in range(1,5)]) + X[staff, day - 1, 4] == 1)\n",
    "        else:\n",
    "            model.Add(sum([X[staff, day, shift] for shift in range(1,5)]) == 0)"
   ]
  },
  {
   "cell_type": "code",
   "execution_count": 24,
   "metadata": {},
   "outputs": [],
   "source": [
    "# Each shift in each day has at least [a] employees and at most [b] employees\n",
    "for day in range(d):\n",
    "    for kip in range(1,5):\n",
    "        model.Add(sum([X[person, day, shift] for person in range(n)]) <= b)\n",
    "        model.Add(sum([X[person, day, shift] for person in range(n)]) >= a)"
   ]
  },
  {
   "cell_type": "code",
   "execution_count": 25,
   "metadata": {},
   "outputs": [],
   "source": [
    "# F(i): list of employee rest days i\n",
    "# The maximum number of night shifts assigned to a specific employee is the smallest\n",
    "max_night_shift = model.NewIntVar(1, int(d/2) + 1, 'max_night_shift')\n",
    "for staff in range(n):\n",
    "    model.Add(sum([X[staff, day, 4]for day in range(d)]) - max_night_shift <= 0)"
   ]
  },
  {
   "cell_type": "code",
   "execution_count": 27,
   "metadata": {},
   "outputs": [
    {
     "name": "stdout",
     "output_type": "stream",
     "text": [
      "Minimize of max night shift:  1.0\n"
     ]
    }
   ],
   "source": [
    "# Objective Function\n",
    "model.Minimize(max_night_shift)\n",
    "\n",
    "# Solver\n",
    "solver = cp_model.CpSolver()\n",
    "status = solver.Solve(model)\n",
    "\n",
    "if status == cp_model.OPTIMAL:\n",
    "  print(\"Minimize of max night shift: \", solver.ObjectiveValue())"
   ]
  }
 ],
 "metadata": {
  "interpreter": {
   "hash": "618af10fdd433c84be79e5d9cef7a85d74ad68be7e2e9dd9461a47b527f16862"
  },
  "kernelspec": {
   "display_name": "Python 3.8.8 64-bit ('base': conda)",
   "language": "python",
   "name": "python3"
  },
  "language_info": {
   "codemirror_mode": {
    "name": "ipython",
    "version": 3
   },
   "file_extension": ".py",
   "mimetype": "text/x-python",
   "name": "python",
   "nbconvert_exporter": "python",
   "pygments_lexer": "ipython3",
   "version": "3.8.8"
  },
  "orig_nbformat": 4
 },
 "nbformat": 4,
 "nbformat_minor": 2
}
