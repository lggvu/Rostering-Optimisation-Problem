{
 "cells": [
  {
   "cell_type": "markdown",
   "metadata": {},
   "source": [
    "# Constraint Optimization"
   ]
  },
  {
   "cell_type": "markdown",
   "metadata": {},
   "source": [
    "Constraint optimization, or constraint programming (CP), is the name given to identifying feasible solutions out of a very large set of candidates, where the problem can be modeled in terms of arbitrary constraints. CP problems arise in many scientific and engineering disciplines. (The word \"programming\" is a bit of a misnomer, similar to how \"computer\" once meant \"a person who computes\". Here, \"programming\" refers to the arrangement of a plan, rather than programming in a computer language.)\n",
    "\n",
    "CP is based on `feasibility` (finding a feasible solution) rather than optimization (finding an optimal solution) and focuses on the constraints and variables rather than the objective function. In fact, a CP problem may not even have an objective function — the goal may simply be to narrow down a vary large set of possible solutions to a more manageable subset by adding constraints to the problem.\n",
    "\n"
   ]
  },
  {
   "cell_type": "markdown",
   "metadata": {},
   "source": [
    "# CP-SAT Solver"
   ]
  },
  {
   "cell_type": "markdown",
   "metadata": {},
   "source": [
    "**Example: Finding a feasible solution** \n",
    "* Three variables, x, y, and z, each of which can take on the values: 0, 1, or 2.\n",
    "* One constraint: x ≠ y"
   ]
  },
  {
   "cell_type": "markdown",
   "metadata": {},
   "source": [
    "## Simple Solve"
   ]
  },
  {
   "cell_type": "code",
   "execution_count": 2,
   "metadata": {},
   "outputs": [],
   "source": [
    "# import the libraries\n",
    "from ortools.sat.python import cp_model"
   ]
  },
  {
   "cell_type": "code",
   "execution_count": 3,
   "metadata": {},
   "outputs": [],
   "source": [
    "# declare the model\n",
    "model = cp_model.CpModel()"
   ]
  },
  {
   "cell_type": "code",
   "execution_count": 4,
   "metadata": {},
   "outputs": [],
   "source": [
    "# create the variables\n",
    "x = model.NewIntVar(0,2,\"x\")\n",
    "y = model.NewIntVar(0,2,\"y\")\n",
    "z = model.NewIntVar(0,2,\"z\")"
   ]
  },
  {
   "cell_type": "code",
   "execution_count": 5,
   "metadata": {},
   "outputs": [
    {
     "data": {
      "text/plain": [
       "<ortools.sat.python.cp_model.Constraint at 0x7ff338250970>"
      ]
     },
     "execution_count": 5,
     "metadata": {},
     "output_type": "execute_result"
    }
   ],
   "source": [
    "# create the constraint \n",
    "model.Add(x != y)"
   ]
  },
  {
   "cell_type": "code",
   "execution_count": 6,
   "metadata": {},
   "outputs": [],
   "source": [
    "# call the solver \n",
    "solver = cp_model.CpSolver()\n",
    "status = solver.Solve(model)"
   ]
  },
  {
   "cell_type": "markdown",
   "metadata": {},
   "source": [
    "**CP-SAT return values**\n",
    "* `OPTIMAL` An optimal feasible solution was found.\n",
    "* `FEASIBLE` A feasible solution was found (idk if it's optimal).\n",
    "* `INFEASIBLE` The problem was proven infeasible\n",
    "* `MODEL_INVALID` The given CpModelProto didn't pass the validation step. You can get a detailed error by calling ValidateCpModel(model_proto).\n",
    "* `UNKNOWN` The status of the model is unknown because no solution was found (or the problem was not proven INFEASIBLE) before something caused the solver to stop, such as a time limit, a memory limit, or a custom limit set by the user.\n"
   ]
  },
  {
   "cell_type": "code",
   "execution_count": 7,
   "metadata": {},
   "outputs": [
    {
     "name": "stdout",
     "output_type": "stream",
     "text": [
      "x = 1\n",
      "y = 0\n",
      "z = 0\n"
     ]
    }
   ],
   "source": [
    "# display the first solution\n",
    "if status == cp_model.OPTIMAL or status == cp_model.FEASIBLE:\n",
    "    print('x = %i' % solver.Value(x))\n",
    "    print('y = %i' % solver.Value(y))\n",
    "    print('z = %i' % solver.Value(z))\n",
    "else:\n",
    "    print('No solution found.')"
   ]
  },
  {
   "cell_type": "markdown",
   "metadata": {},
   "source": [
    "## All Solutions\n",
    "The main addition to the program is a solution printer—a callback that you pass to the solver, which displays each solution as it is found."
   ]
  },
  {
   "cell_type": "code",
   "execution_count": 8,
   "metadata": {},
   "outputs": [],
   "source": [
    "# Add the solution printer\n",
    "class VarArraySolutionPrinter(cp_model.CpSolverSolutionCallback):\n",
    "    # print intermediate solutions \n",
    "\n",
    "    def __init__(self,variables):\n",
    "        cp_model.CpSolverSolutionCallback.__init__(self)\n",
    "        self.__variables = variables\n",
    "        self.__solution_count = 0 \n",
    "    def on_solution_callback(self):\n",
    "        self.__solution_count += 1 \n",
    "        for v in self.__variables:\n",
    "            print(\"%s=%i\" % (v, self.Value(v)), end = \" \")\n",
    "        print()\n",
    "    def solution_count(self):\n",
    "        return self.__solution_count"
   ]
  },
  {
   "cell_type": "code",
   "execution_count": 9,
   "metadata": {},
   "outputs": [
    {
     "name": "stdout",
     "output_type": "stream",
     "text": [
      "x=1 y=2 z=0 \n",
      "x=1 y=0 z=0 \n",
      "x=2 y=0 z=0 \n",
      "x=2 y=1 z=0 \n",
      "x=2 y=1 z=1 \n",
      "x=2 y=0 z=1 \n",
      "x=1 y=0 z=1 \n",
      "x=1 y=2 z=1 \n",
      "x=1 y=2 z=2 \n",
      "x=1 y=0 z=2 \n",
      "x=2 y=0 z=2 \n",
      "x=2 y=1 z=2 \n",
      "x=0 y=1 z=2 \n",
      "x=0 y=1 z=1 \n",
      "x=0 y=1 z=0 \n",
      "x=0 y=2 z=0 \n",
      "x=0 y=2 z=1 \n",
      "x=0 y=2 z=2 \n"
     ]
    }
   ],
   "source": [
    "# Call the solver, and passses the solution printer to it\n",
    "solver = cp_model.CpSolver()\n",
    "solution_printer = VarArraySolutionPrinter([x,y,z])\n",
    "\n",
    "# Enumerate all solutions.\n",
    "solver.parameters.enumerate_all_solutions = True\n",
    "\n",
    "# Solve\n",
    "status = solver.Solve(model, solution_printer)"
   ]
  },
  {
   "cell_type": "markdown",
   "metadata": {},
   "source": [
    "# CSOP"
   ]
  },
  {
   "cell_type": "markdown",
   "metadata": {},
   "source": [
    "**Maximize 2x + 2y + 3z s**\n",
    "* x + 7/2 * y + 3/2 * z <= 25\n",
    "* 3x - 5y + 7z <= 45\n",
    "* 5x + 2y - 6z <= 37\n",
    "* x,y,z >= 0 & int\n",
    "\n",
    "In order to increase computational speed, the CP-SAT solver works over the integers. This means all constraints and the objective must have integer coefficients. In the above example, the first constraint doesn't meet this condition. To solve the problem, you must first transform the constraint by multiplying it by a sufficiently large integer to convert all the coefficients to integers. This is shown in the Constraints section below."
   ]
  },
  {
   "cell_type": "code",
   "execution_count": 10,
   "metadata": {},
   "outputs": [],
   "source": [
    "# solution using the CP-SAT solver \n",
    "# import the libraries \n",
    "from ortools.sat.python import cp_model "
   ]
  },
  {
   "cell_type": "code",
   "execution_count": 11,
   "metadata": {},
   "outputs": [],
   "source": [
    "# declare the model \n",
    "model = cp_model.CpModel()"
   ]
  },
  {
   "cell_type": "code",
   "execution_count": 12,
   "metadata": {},
   "outputs": [],
   "source": [
    "# create the variables \n",
    "var_upper_bound = max(50,45,37)\n",
    "x = model.NewIntVar(0,var_upper_bound,\"x\")\n",
    "y = model.NewIntVar(0,var_upper_bound,\"y\")\n",
    "z = model.NewIntVar(0,var_upper_bound,\"z\")"
   ]
  },
  {
   "cell_type": "code",
   "execution_count": 13,
   "metadata": {},
   "outputs": [
    {
     "data": {
      "text/plain": [
       "<ortools.sat.python.cp_model.Constraint at 0x7ff33827a250>"
      ]
     },
     "execution_count": 13,
     "metadata": {},
     "output_type": "execute_result"
    }
   ],
   "source": [
    "# define the constraints \n",
    "# x + 3.5y + 1.5z <= 25 > 2x + 7y + 3z <= 50\n",
    "model.Add(2*x + 7*y + 3*z <= 50)\n",
    "model.Add(3*x - 5*y + 7*z <= 50)\n",
    "model.Add(5*x + 2*y - 6*z <= 37)"
   ]
  },
  {
   "cell_type": "code",
   "execution_count": 14,
   "metadata": {},
   "outputs": [],
   "source": [
    "# define the objective function \n",
    "model.Maximize(2*x + 2*y + 3*z)"
   ]
  },
  {
   "cell_type": "code",
   "execution_count": 15,
   "metadata": {},
   "outputs": [],
   "source": [
    "# call the solver \n",
    "solver = cp_model.CpSolver()\n",
    "status = solver.Solve(model)"
   ]
  },
  {
   "cell_type": "code",
   "execution_count": 16,
   "metadata": {},
   "outputs": [
    {
     "name": "stdout",
     "output_type": "stream",
     "text": [
      "Maximum of objective function: 36.0\n",
      "\n",
      "x = 10\n",
      "y = 2\n",
      "z = 4\n"
     ]
    }
   ],
   "source": [
    "if status == cp_model.OPTIMAL or status == cp_model.FEASIBLE:\n",
    "    print(f'Maximum of objective function: {solver.ObjectiveValue()}\\n')\n",
    "    print(f'x = {solver.Value(x)}')\n",
    "    print(f'y = {solver.Value(y)}')\n",
    "    print(f'z = {solver.Value(z)}')\n",
    "else:\n",
    "    print('No solution found.')"
   ]
  },
  {
   "cell_type": "markdown",
   "metadata": {},
   "source": [
    "# Solver limits\n"
   ]
  },
  {
   "cell_type": "code",
   "execution_count": 17,
   "metadata": {},
   "outputs": [
    {
     "name": "stdout",
     "output_type": "stream",
     "text": [
      "x = 1\n",
      "y = 0\n",
      "z = 0\n"
     ]
    }
   ],
   "source": [
    "# Setting a time limit for the solver\n",
    "# If your program takes a long time to run, we recommend setting a time limit for the solver, which ensures that the program will terminate in a reasonable length of time. \n",
    "# The examples below illustrate how to set a limit of 10 seconds for the solver.\n",
    "\"\"\"Solves a problem with a time limit.\"\"\"\n",
    "from ortools.sat.python import cp_model\n",
    "\n",
    "def SolveWithTimeLimitSampleSat():\n",
    "    \"\"\"Minimal CP-SAT example to showcase calling the solver.\"\"\"\n",
    "    # Creates the model.\n",
    "    model = cp_model.CpModel()\n",
    "    # Creates the variables.\n",
    "    num_vals = 3\n",
    "    x = model.NewIntVar(0, num_vals - 1, 'x')\n",
    "    y = model.NewIntVar(0, num_vals - 1, 'y')\n",
    "    z = model.NewIntVar(0, num_vals - 1, 'z')\n",
    "    # Adds an all-different constraint.\n",
    "    model.Add(x != y)\n",
    "\n",
    "    # Creates a solver and solves the model.\n",
    "    solver = cp_model.CpSolver()\n",
    "\n",
    "    # Sets a time limit of 10 seconds.\n",
    "    solver.parameters.max_time_in_seconds = 10.0\n",
    "\n",
    "    status = solver.Solve(model)\n",
    "\n",
    "    if status == cp_model.OPTIMAL:\n",
    "        print('x = %i' % solver.Value(x))\n",
    "        print('y = %i' % solver.Value(y))\n",
    "        print('z = %i' % solver.Value(z))\n",
    "\n",
    "SolveWithTimeLimitSampleSat()"
   ]
  },
  {
   "cell_type": "code",
   "execution_count": 18,
   "metadata": {},
   "outputs": [
    {
     "name": "stdout",
     "output_type": "stream",
     "text": [
      "x=0 y=0 z=0 \n",
      "x=0 y=1 z=0 \n",
      "x=0 y=1 z=1 \n",
      "x=0 y=0 z=1 \n",
      "x=0 y=2 z=1 \n",
      "Stop search after 5 solutions\n",
      "Status = FEASIBLE\n",
      "Number of solutions found: 5\n"
     ]
    }
   ],
   "source": [
    "# Stopping a search after a specified number of solutions \n",
    "# As an alternative to setting a time limit, you can make the solver terminate after it finds a specified number of solutions. \n",
    "# The examples below illustrate how to stop the search after five solutions.\n",
    "\"\"\"Code sample that solves a model and displays a small number of solutions.\"\"\"\n",
    "from ortools.sat.python import cp_model\n",
    "\n",
    "class VarArraySolutionPrinterWithLimit(cp_model.CpSolverSolutionCallback):\n",
    "    \"\"\"Print intermediate solutions.\"\"\"\n",
    "\n",
    "    def __init__(self, variables, limit):\n",
    "        cp_model.CpSolverSolutionCallback.__init__(self)\n",
    "        self.__variables = variables\n",
    "        self.__solution_count = 0\n",
    "        self.__solution_limit = limit\n",
    "\n",
    "    def on_solution_callback(self):\n",
    "        self.__solution_count += 1\n",
    "        for v in self.__variables:\n",
    "            print('%s=%i' % (v, self.Value(v)), end=' ')\n",
    "        print()\n",
    "        if self.__solution_count >= self.__solution_limit:\n",
    "            print('Stop search after %i solutions' % self.__solution_limit)\n",
    "            self.StopSearch()\n",
    "\n",
    "    def solution_count(self):\n",
    "        return self.__solution_count\n",
    "\n",
    "def StopAfterNSolutionsSampleSat():\n",
    "    \"\"\"Showcases calling the solver to search for small number of solutions.\"\"\"\n",
    "    # Creates the model.\n",
    "    model = cp_model.CpModel()\n",
    "    # Creates the variables.\n",
    "    num_vals = 3\n",
    "    x = model.NewIntVar(0, num_vals - 1, 'x')\n",
    "    y = model.NewIntVar(0, num_vals - 1, 'y')\n",
    "    z = model.NewIntVar(0, num_vals - 1, 'z')\n",
    "\n",
    "    # Create a solver and solve.\n",
    "    solver = cp_model.CpSolver()\n",
    "    solution_printer = VarArraySolutionPrinterWithLimit([x, y, z], 5)\n",
    "    # Enumerate all solutions.\n",
    "    solver.parameters.enumerate_all_solutions = True\n",
    "    # Solve.\n",
    "    status = solver.Solve(model, solution_printer)\n",
    "    print('Status = %s' % solver.StatusName(status))\n",
    "    print('Number of solutions found: %i' % solution_printer.solution_count())\n",
    "    assert solution_printer.solution_count() == 5\n",
    "\n",
    "StopAfterNSolutionsSampleSat()"
   ]
  },
  {
   "cell_type": "markdown",
   "metadata": {},
   "source": [
    "# Employee Scheduling"
   ]
  },
  {
   "cell_type": "markdown",
   "metadata": {},
   "source": [
    "## A nurse scheduling problem"
   ]
  },
  {
   "cell_type": "markdown",
   "metadata": {},
   "source": [
    "A hospital supervisor needs to create a schedule for four nurses over a three-day period, subject to the following conditions:\n",
    "* Each day is divided into three 8-hour shifts.\n",
    "* Every day, each shift is assigned to a single nurse, and no nurse works more than one shift.\n",
    "* Each nurse is assigned to at least two shifts during the three-day period."
   ]
  },
  {
   "cell_type": "code",
   "execution_count": 19,
   "metadata": {},
   "outputs": [],
   "source": [
    "# Import the libraries \n",
    "from ortools.sat.python import cp_model"
   ]
  },
  {
   "cell_type": "code",
   "execution_count": 20,
   "metadata": {},
   "outputs": [],
   "source": [
    "# Data for the example \n",
    "num_nurses = 4 \n",
    "num_shifts = 3 \n",
    "num_days = 3 \n",
    "\n",
    "# index for data\n",
    "all_nurses = range(num_nurses)\n",
    "all_shifts = range(num_shifts)\n",
    "all_days = range(num_days)"
   ]
  },
  {
   "cell_type": "code",
   "execution_count": 21,
   "metadata": {},
   "outputs": [],
   "source": [
    "# Create the model \n",
    "model = cp_model.CpModel()"
   ]
  },
  {
   "cell_type": "code",
   "execution_count": 26,
   "metadata": {},
   "outputs": [],
   "source": [
    "# Create the variables \n",
    "shifts = {}\n",
    "for n in all_nurses:\n",
    "    for d in all_days:\n",
    "        for s in all_shifts:\n",
    "            # arr equals 1 if shift s is assigned to nurse n on day d, and 0 otw\n",
    "            shifts[(n,d,s)] = model.NewBoolVar('shift_n%id%is%i' %(n, d, s)) #format with %i: represent a signed decimal integer"
   ]
  },
  {
   "cell_type": "code",
   "execution_count": null,
   "metadata": {},
   "outputs": [],
   "source": [
    "# Assign nurses to shifts, follow constraint 2 \n",
    "\n",
    "# create 1st condition: each shift is assigned to a single nurse / day\n",
    "for d in all_days:\n",
    "    for s in all_shifts:\n",
    "        # sum of the nurses assigned to that shift is 1 \n",
    "        model.Add(sum(shifts[(n,d,s)] for n in all_nurses) == 1)\n",
    "\n",
    "# create 2nd condition: each nurse works at most one shift per day at most bcs a nurse might have the day off \n",
    "for n in all_nurses:\n",
    "    for d in all_days:\n",
    "        model.Add(sum(shifts[(n, d, s)] for s in all_shifts) <= 1)"
   ]
  },
  {
   "cell_type": "code",
   "execution_count": null,
   "metadata": {},
   "outputs": [],
   "source": [
    "# Assign shifts evenly \n",
    "# There are 9 shifts over the three-day period, we can assign 2 shifts to each\n",
    "# of 4 nurses.\n",
    "# After that 1 shift we can assigned to any nurse \n",
    "\n",
    "# Distribute shifts evenly, each nurse works min_shifts_per_nurse shift.\n",
    "# If impossible, bcs num_shifts % num_nurse != 0 > som nurse will be assigned\n",
    "# one more shift.\n",
    "\n",
    "# at least shifts to each nurse\n",
    "min_shifts_per_nurse = (num_shifts * num_days) // num_nurses \n",
    "\n",
    "if num_shifts * num_days % num_nurses == 0:\n",
    "    max_shifts_per_nurse = min_shifts_per_nurse\n",
    "else:\n",
    "    max_shifts_per_nurse = min_shifts_per_nurse + 1 \n",
    "\n",
    "for n in all_nurses:\n",
    "    num_shifts_worked = []\n",
    "    for d in all_days:\n",
    "        for s in all_shifts:\n",
    "            num_shifts_worked.append(shifts[(n,d,s)])\n",
    "    # at least two shifts to each nurse\n",
    "    model.Add(min_shifts_per_nurse <= sum(num_shifts_worked))\n",
    "    # no nurse is assigned more than one extra shift\n",
    "    model.Add(sum(num_shifts_worked) <= max_shifts_per_nurse)"
   ]
  },
  {
   "cell_type": "code",
   "execution_count": null,
   "metadata": {},
   "outputs": [],
   "source": [
    "# Update solver parameters \n",
    "# it's non-optimization model, you can enumerate all solutions\n",
    "solver = cp_model.CpSolver()\n",
    "solver.parameters.linearization_level = 0 \n",
    "\n",
    "# enumerate all solutions\n",
    "solver.parameters.enumerate_all_solutions = True"
   ]
  },
  {
   "cell_type": "code",
   "execution_count": null,
   "metadata": {},
   "outputs": [],
   "source": [
    "# Register a Solutions Callback\n",
    "class NursesPartialSolutionPrinter(cp_model.CpSolverSolutionCallback):\n",
    "    \"\"\"Print intermediate solutions.\"\"\"\n",
    "\n",
    "    def __init__(self, shifts, num_nurses, num_days, num_shifts, limit):\n",
    "        cp_model.CpSolverSolutionCallback.__init__(self)\n",
    "        self._shifts = shifts\n",
    "        self._num_nurses = num_nurses\n",
    "        self._num_days = num_days\n",
    "        self._num_shifts = num_shifts\n",
    "        self._solution_count = 0\n",
    "        self._solution_limit = limit\n",
    "\n",
    "    def on_solution_callback(self):\n",
    "        self._solution_count += 1\n",
    "        print('Solution %i' % self._solution_count)\n",
    "        for d in range(self._num_days):\n",
    "            print('Day %i' % d)\n",
    "            for n in range(self._num_nurses):\n",
    "                is_working = False\n",
    "                for s in range(self._num_shifts):\n",
    "                    if self.Value(self._shifts[(n, d, s)]):\n",
    "                        is_working = True\n",
    "                        print('  Nurse %i works shift %i' % (n, s))\n",
    "                if not is_working:\n",
    "                    print('  Nurse {} does not work'.format(n))\n",
    "        if self._solution_count >= self._solution_limit:\n",
    "            print('Stop search after %i solutions' % self._solution_limit)\n",
    "            self.StopSearch()\n",
    "\n",
    "    def solution_count(self):\n",
    "        return self._solution_count\n",
    "\n",
    "# Display the first five solutions.\n",
    "solution_limit = 5\n",
    "solution_printer = NursesPartialSolutionPrinter(shifts, num_nurses, num_days, num_shifts, solution_limit)"
   ]
  },
  {
   "cell_type": "code",
   "execution_count": null,
   "metadata": {},
   "outputs": [
    {
     "name": "stdout",
     "output_type": "stream",
     "text": [
      "Solution 1\n",
      "Day 0\n",
      "  Nurse 0 does not work\n",
      "  Nurse 1 works shift 0\n",
      "  Nurse 2 works shift 1\n",
      "  Nurse 3 works shift 2\n",
      "Day 1\n",
      "  Nurse 0 works shift 2\n",
      "  Nurse 1 does not work\n",
      "  Nurse 2 works shift 1\n",
      "  Nurse 3 works shift 0\n",
      "Day 2\n",
      "  Nurse 0 works shift 2\n",
      "  Nurse 1 works shift 1\n",
      "  Nurse 2 works shift 0\n",
      "  Nurse 3 does not work\n",
      "Solution 2\n",
      "Day 0\n",
      "  Nurse 0 works shift 0\n",
      "  Nurse 1 does not work\n",
      "  Nurse 2 works shift 1\n",
      "  Nurse 3 works shift 2\n",
      "Day 1\n",
      "  Nurse 0 does not work\n",
      "  Nurse 1 works shift 2\n",
      "  Nurse 2 works shift 1\n",
      "  Nurse 3 works shift 0\n",
      "Day 2\n",
      "  Nurse 0 works shift 2\n",
      "  Nurse 1 works shift 1\n",
      "  Nurse 2 works shift 0\n",
      "  Nurse 3 does not work\n",
      "Solution 3\n",
      "Day 0\n",
      "  Nurse 0 works shift 0\n",
      "  Nurse 1 does not work\n",
      "  Nurse 2 works shift 1\n",
      "  Nurse 3 works shift 2\n",
      "Day 1\n",
      "  Nurse 0 works shift 1\n",
      "  Nurse 1 works shift 2\n",
      "  Nurse 2 does not work\n",
      "  Nurse 3 works shift 0\n",
      "Day 2\n",
      "  Nurse 0 works shift 2\n",
      "  Nurse 1 works shift 1\n",
      "  Nurse 2 works shift 0\n",
      "  Nurse 3 does not work\n",
      "Solution 4\n",
      "Day 0\n",
      "  Nurse 0 works shift 0\n",
      "  Nurse 1 does not work\n",
      "  Nurse 2 works shift 1\n",
      "  Nurse 3 works shift 2\n",
      "Day 1\n",
      "  Nurse 0 works shift 2\n",
      "  Nurse 1 works shift 1\n",
      "  Nurse 2 does not work\n",
      "  Nurse 3 works shift 0\n",
      "Day 2\n",
      "  Nurse 0 works shift 2\n",
      "  Nurse 1 works shift 1\n",
      "  Nurse 2 works shift 0\n",
      "  Nurse 3 does not work\n",
      "Solution 5\n",
      "Day 0\n",
      "  Nurse 0 does not work\n",
      "  Nurse 1 works shift 0\n",
      "  Nurse 2 works shift 1\n",
      "  Nurse 3 works shift 2\n",
      "Day 1\n",
      "  Nurse 0 works shift 2\n",
      "  Nurse 1 works shift 1\n",
      "  Nurse 2 does not work\n",
      "  Nurse 3 works shift 0\n",
      "Day 2\n",
      "  Nurse 0 works shift 2\n",
      "  Nurse 1 works shift 1\n",
      "  Nurse 2 works shift 0\n",
      "  Nurse 3 does not work\n",
      "Stop search after 5 solutions\n"
     ]
    },
    {
     "data": {
      "text/plain": [
       "2"
      ]
     },
     "execution_count": 36,
     "metadata": {},
     "output_type": "execute_result"
    }
   ],
   "source": [
    "# Invoke the solver \n",
    "# call the solver and displays the first 5 solutions\n",
    "solver.Solve(model, solution_printer)"
   ]
  },
  {
   "cell_type": "markdown",
   "metadata": {},
   "source": [
    "### Entire program"
   ]
  },
  {
   "cell_type": "code",
   "execution_count": null,
   "metadata": {},
   "outputs": [
    {
     "name": "stdout",
     "output_type": "stream",
     "text": [
      "Solution 1\n",
      "Day 0\n",
      "  Nurse 0 does not work\n",
      "  Nurse 1 works shift 0\n",
      "  Nurse 2 works shift 1\n",
      "  Nurse 3 works shift 2\n",
      "Day 1\n",
      "  Nurse 0 works shift 2\n",
      "  Nurse 1 does not work\n",
      "  Nurse 2 works shift 1\n",
      "  Nurse 3 works shift 0\n",
      "Day 2\n",
      "  Nurse 0 works shift 2\n",
      "  Nurse 1 works shift 1\n",
      "  Nurse 2 works shift 0\n",
      "  Nurse 3 does not work\n",
      "Solution 2\n",
      "Day 0\n",
      "  Nurse 0 works shift 0\n",
      "  Nurse 1 does not work\n",
      "  Nurse 2 works shift 1\n",
      "  Nurse 3 works shift 2\n",
      "Day 1\n",
      "  Nurse 0 does not work\n",
      "  Nurse 1 works shift 2\n",
      "  Nurse 2 works shift 1\n",
      "  Nurse 3 works shift 0\n",
      "Day 2\n",
      "  Nurse 0 works shift 2\n",
      "  Nurse 1 works shift 1\n",
      "  Nurse 2 works shift 0\n",
      "  Nurse 3 does not work\n",
      "Solution 3\n",
      "Day 0\n",
      "  Nurse 0 works shift 0\n",
      "  Nurse 1 does not work\n",
      "  Nurse 2 works shift 1\n",
      "  Nurse 3 works shift 2\n",
      "Day 1\n",
      "  Nurse 0 works shift 1\n",
      "  Nurse 1 works shift 2\n",
      "  Nurse 2 does not work\n",
      "  Nurse 3 works shift 0\n",
      "Day 2\n",
      "  Nurse 0 works shift 2\n",
      "  Nurse 1 works shift 1\n",
      "  Nurse 2 works shift 0\n",
      "  Nurse 3 does not work\n",
      "Solution 4\n",
      "Day 0\n",
      "  Nurse 0 works shift 0\n",
      "  Nurse 1 does not work\n",
      "  Nurse 2 works shift 1\n",
      "  Nurse 3 works shift 2\n",
      "Day 1\n",
      "  Nurse 0 works shift 2\n",
      "  Nurse 1 works shift 1\n",
      "  Nurse 2 does not work\n",
      "  Nurse 3 works shift 0\n",
      "Day 2\n",
      "  Nurse 0 works shift 2\n",
      "  Nurse 1 works shift 1\n",
      "  Nurse 2 works shift 0\n",
      "  Nurse 3 does not work\n",
      "Solution 5\n",
      "Day 0\n",
      "  Nurse 0 does not work\n",
      "  Nurse 1 works shift 0\n",
      "  Nurse 2 works shift 1\n",
      "  Nurse 3 works shift 2\n",
      "Day 1\n",
      "  Nurse 0 works shift 2\n",
      "  Nurse 1 works shift 1\n",
      "  Nurse 2 does not work\n",
      "  Nurse 3 works shift 0\n",
      "Day 2\n",
      "  Nurse 0 works shift 2\n",
      "  Nurse 1 works shift 1\n",
      "  Nurse 2 works shift 0\n",
      "  Nurse 3 does not work\n",
      "Stop search after 5 solutions\n",
      "\n",
      "Statistics\n",
      "  - conflicts      : 5\n",
      "  - branches       : 142\n",
      "  - wall time      : 0.005268 s\n",
      "  - solutions found: 5\n"
     ]
    }
   ],
   "source": [
    "\"\"\"Example of a simple nurse scheduling problem.\"\"\"\n",
    "from ortools.sat.python import cp_model\n",
    "\n",
    "\n",
    "def main():\n",
    "    # Data.\n",
    "    num_nurses = 4\n",
    "    num_shifts = 3\n",
    "    num_days = 3\n",
    "    all_nurses = range(num_nurses)\n",
    "    all_shifts = range(num_shifts)\n",
    "    all_days = range(num_days)\n",
    "\n",
    "    # Creates the model.\n",
    "    model = cp_model.CpModel()\n",
    "\n",
    "    # Creates shift variables.\n",
    "    # shifts[(n, d, s)]: nurse 'n' works shift 's' on day 'd'.\n",
    "    shifts = {}\n",
    "    for n in all_nurses:\n",
    "        for d in all_days:\n",
    "            for s in all_shifts:\n",
    "                shifts[(n, d,\n",
    "                        s)] = model.NewBoolVar('shift_n%id%is%i' % (n, d, s))\n",
    "\n",
    "    # Each shift is assigned to exactly one nurse in the schedule period.\n",
    "    for d in all_days:\n",
    "        for s in all_shifts:\n",
    "            model.Add(sum(shifts[(n, d, s)] for n in all_nurses) == 1)\n",
    "\n",
    "    # Each nurse works at most one shift per day.\n",
    "    for n in all_nurses:\n",
    "        for d in all_days:\n",
    "            model.Add(sum(shifts[(n, d, s)] for s in all_shifts) <= 1)\n",
    "\n",
    "    # Try to distribute the shifts evenly, so that each nurse works\n",
    "    # min_shifts_per_nurse shifts. If this is not possible, because the total\n",
    "    # number of shifts is not divisible by the number of nurses, some nurses will\n",
    "    # be assigned one more shift.\n",
    "    min_shifts_per_nurse = (num_shifts * num_days) // num_nurses\n",
    "    if num_shifts * num_days % num_nurses == 0:\n",
    "        max_shifts_per_nurse = min_shifts_per_nurse\n",
    "    else:\n",
    "        max_shifts_per_nurse = min_shifts_per_nurse + 1\n",
    "    for n in all_nurses:\n",
    "        num_shifts_worked = []\n",
    "        for d in all_days:\n",
    "            for s in all_shifts:\n",
    "                num_shifts_worked.append(shifts[(n, d, s)])\n",
    "        model.Add(min_shifts_per_nurse <= sum(num_shifts_worked))\n",
    "        model.Add(sum(num_shifts_worked) <= max_shifts_per_nurse)\n",
    "\n",
    "    # Creates the solver and solve.\n",
    "    solver = cp_model.CpSolver()\n",
    "    solver.parameters.linearization_level = 0\n",
    "    # Enumerate all solutions.\n",
    "    solver.parameters.enumerate_all_solutions = True\n",
    "\n",
    "\n",
    "    class NursesPartialSolutionPrinter(cp_model.CpSolverSolutionCallback):\n",
    "        \"\"\"Print intermediate solutions.\"\"\"\n",
    "\n",
    "        def __init__(self, shifts, num_nurses, num_days, num_shifts, limit):\n",
    "            cp_model.CpSolverSolutionCallback.__init__(self)\n",
    "            self._shifts = shifts\n",
    "            self._num_nurses = num_nurses\n",
    "            self._num_days = num_days\n",
    "            self._num_shifts = num_shifts\n",
    "            self._solution_count = 0\n",
    "            self._solution_limit = limit\n",
    "\n",
    "        def on_solution_callback(self):\n",
    "            self._solution_count += 1\n",
    "            print('Solution %i' % self._solution_count)\n",
    "            for d in range(self._num_days):\n",
    "                print('Day %i' % d)\n",
    "                for n in range(self._num_nurses):\n",
    "                    is_working = False\n",
    "                    for s in range(self._num_shifts):\n",
    "                        if self.Value(self._shifts[(n, d, s)]):\n",
    "                            is_working = True\n",
    "                            print('  Nurse %i works shift %i' % (n, s))\n",
    "                    if not is_working:\n",
    "                        print('  Nurse {} does not work'.format(n))\n",
    "            if self._solution_count >= self._solution_limit:\n",
    "                print('Stop search after %i solutions' % self._solution_limit)\n",
    "                self.StopSearch()\n",
    "\n",
    "        def solution_count(self):\n",
    "            return self._solution_count\n",
    "\n",
    "    # Display the first five solutions.\n",
    "    solution_limit = 5\n",
    "    solution_printer = NursesPartialSolutionPrinter(shifts, num_nurses,\n",
    "                                                    num_days, num_shifts,\n",
    "                                                    solution_limit)\n",
    "\n",
    "    solver.Solve(model, solution_printer)\n",
    "\n",
    "    # Statistics.\n",
    "    print('\\nStatistics')\n",
    "    print('  - conflicts      : %i' % solver.NumConflicts())\n",
    "    print('  - branches       : %i' % solver.NumBranches())\n",
    "    print('  - wall time      : %f s' % solver.WallTime())\n",
    "    print('  - solutions found: %i' % solution_printer.solution_count())\n",
    "\n",
    "\n",
    "if __name__ == '__main__':\n",
    "    main()"
   ]
  },
  {
   "cell_type": "markdown",
   "metadata": {},
   "source": [
    "## Scheduling with shift requests"
   ]
  },
  {
   "cell_type": "code",
   "execution_count": null,
   "metadata": {},
   "outputs": [],
   "source": [
    "# Import the libraries \n",
    "from ortools.sat.python import cp_model"
   ]
  },
  {
   "cell_type": "code",
   "execution_count": null,
   "metadata": {},
   "outputs": [],
   "source": [
    "# Data for the example \n",
    "num_nurses = 5\n",
    "num_shifts = 3\n",
    "num_days = 7\n",
    "\n",
    "all_nurses = range(num_nurses)\n",
    "all_shifts = range(num_shifts)\n",
    "all_days = range(num_days)\n",
    "\n",
    "# from day 1 > 27, each [] is shift of day\n",
    "shift_requests = [[[0, 0, 1], [0, 0, 0], [0, 0, 0], [0, 0, 0], [0, 0, 1],\n",
    "                   [0, 1, 0], [0, 0, 1]],\n",
    "                  [[0, 0, 0], [0, 0, 0], [0, 1, 0], [0, 1, 0], [1, 0, 0],\n",
    "                   [0, 0, 0], [0, 0, 1]],\n",
    "                  [[0, 1, 0], [0, 1, 0], [0, 0, 0], [1, 0, 0], [0, 0, 0],\n",
    "                   [0, 1, 0], [0, 0, 0]],\n",
    "                  [[0, 0, 1], [0, 0, 0], [1, 0, 0], [0, 1, 0], [0, 0, 0],\n",
    "                   [1, 0, 0], [0, 0, 0]],\n",
    "                  [[0, 0, 0], [0, 0, 1], [0, 1, 0], [0, 0, 0], [1, 0, 0],\n",
    "                   [0, 1, 0], [0, 0, 0]]]"
   ]
  },
  {
   "cell_type": "code",
   "execution_count": null,
   "metadata": {},
   "outputs": [],
   "source": [
    "# Create the model \n",
    "model = cp_model.CpModel()"
   ]
  },
  {
   "cell_type": "code",
   "execution_count": null,
   "metadata": {},
   "outputs": [],
   "source": [
    "# Create the variables\n",
    "shifts = {}\n",
    "for n in all_nurses:\n",
    "    for d in all_days:\n",
    "        for s in all_shifts:\n",
    "            shifts[(n, d, s)] = model.NewBoolVar('shift_n%id%is%i' % (n, d, s))"
   ]
  },
  {
   "cell_type": "code",
   "execution_count": null,
   "metadata": {},
   "outputs": [],
   "source": [
    "# Create the constraints \n",
    "for d in all_days:\n",
    "    for s in all_shifts:\n",
    "        model.Add(sum(shifts[(n, d, s)] for n in all_nurses) == 1)\n",
    "\n",
    "for n in all_nurses:\n",
    "    for d in all_days:\n",
    "        model.Add(sum(shifts[(n, d, s)] for s in all_shifts) <= 1)\n",
    "    \n",
    "# distribute the shifts evenly\n",
    "min_shifts_per_nurse = (num_shifts * num_days) // num_nurses\n",
    "if num_shifts * num_days % num_nurses == 0:\n",
    "    max_shifts_per_nurse = min_shifts_per_nurse\n",
    "else:\n",
    "    max_shifts_per_nurse = min_shifts_per_nurse + 1\n",
    "for n in all_nurses:\n",
    "    num_shifts_worked = 0\n",
    "    for d in all_days:\n",
    "        for s in all_shifts:\n",
    "            num_shifts_worked += shifts[(n, d, s)]\n",
    "    model.Add(min_shifts_per_nurse <= num_shifts_worked)\n",
    "    model.Add(num_shifts_worked <= max_shifts_per_nurse)"
   ]
  },
  {
   "cell_type": "code",
   "execution_count": null,
   "metadata": {},
   "outputs": [],
   "source": [
    "# Optimize Objective function\n",
    "# shift_requests[n][d][s] * shifts[(n, d, s)] = 1 is shift s is assigned to nurse n on day d and that nurse request requested that shift (and 0 otherwise)\n",
    "# the objective is the number shift of assignments that meet a request\n",
    "# pylint: disable=g-complex-comprehension\n",
    "model.Maximize(sum(shift_requests[n][d][s] * shifts[(n, d, s)] for n in all_nurses \n",
    "                                                                for d in all_days \n",
    "                                                                for s in all_shifts))"
   ]
  },
  {
   "cell_type": "code",
   "execution_count": null,
   "metadata": {},
   "outputs": [],
   "source": [
    "# Invoke the solver \n",
    "solver = cp_model.CpSolver()\n",
    "status = solver.Solve(model)"
   ]
  },
  {
   "cell_type": "code",
   "execution_count": null,
   "metadata": {},
   "outputs": [],
   "source": [
    "# Display the results \n",
    "if status == cp_model.OPTIMAL:\n",
    "    print('Solution:')\n",
    "    for d in all_days:\n",
    "        print('Day', d)\n",
    "        for n in all_nurses:\n",
    "            for s in all_shifts:\n",
    "                if solver.Value(shifts[(n, d, s)]) == 1:\n",
    "                    if shift_requests[n][d][s] == 1:\n",
    "                        print('Nurse', n, 'works shift', s, '(requested).')\n",
    "                    else:\n",
    "                        print('Nurse', n, 'works shift', s,\n",
    "                              '(not requested).')\n",
    "        print()\n",
    "    print(f'Number of shift requests met = {solver.ObjectiveValue()}',\n",
    "          f'(out of {num_nurses * min_shifts_per_nurse})')\n",
    "else:\n",
    "    print('No optimal solution found !')"
   ]
  },
  {
   "cell_type": "markdown",
   "metadata": {},
   "source": [
    "### Entire program"
   ]
  },
  {
   "cell_type": "code",
   "execution_count": null,
   "metadata": {},
   "outputs": [
    {
     "name": "stdout",
     "output_type": "stream",
     "text": [
      "Solution:\n",
      "Day 0\n",
      "Nurse 1 works shift 0 (not requested).\n",
      "Nurse 2 works shift 1 (requested).\n",
      "Nurse 3 works shift 2 (requested).\n",
      "\n",
      "Day 1\n",
      "Nurse 1 works shift 0 (not requested).\n",
      "Nurse 2 works shift 1 (requested).\n",
      "Nurse 4 works shift 2 (requested).\n",
      "\n",
      "Day 2\n",
      "Nurse 0 works shift 2 (not requested).\n",
      "Nurse 3 works shift 0 (requested).\n",
      "Nurse 4 works shift 1 (requested).\n",
      "\n",
      "Day 3\n",
      "Nurse 2 works shift 0 (requested).\n",
      "Nurse 3 works shift 1 (requested).\n",
      "Nurse 4 works shift 2 (not requested).\n",
      "\n",
      "Day 4\n",
      "Nurse 0 works shift 2 (requested).\n",
      "Nurse 1 works shift 1 (not requested).\n",
      "Nurse 4 works shift 0 (requested).\n",
      "\n",
      "Day 5\n",
      "Nurse 0 works shift 1 (requested).\n",
      "Nurse 2 works shift 2 (not requested).\n",
      "Nurse 3 works shift 0 (requested).\n",
      "\n",
      "Day 6\n",
      "Nurse 0 works shift 2 (requested).\n",
      "Nurse 1 works shift 1 (not requested).\n",
      "Nurse 2 works shift 0 (not requested).\n",
      "\n",
      "Number of shift requests met = 13.0 (out of 20)\n",
      "\n",
      "Statistics\n",
      "  - conflicts: 0\n",
      "  - branches : 251\n",
      "  - wall time: 0.014578 s\n"
     ]
    }
   ],
   "source": [
    "\"\"\"Nurse scheduling problem with shift requests.\"\"\"\n",
    "from ortools.sat.python import cp_model\n",
    "\n",
    "\n",
    "def main():\n",
    "    # This program tries to find an optimal assignment of nurses to shifts\n",
    "    # (3 shifts per day, for 7 days), subject to some constraints (see below).\n",
    "    # Each nurse can request to be assigned to specific shifts.\n",
    "    # The optimal assignment maximizes the number of fulfilled shift requests.\n",
    "    num_nurses = 5\n",
    "    num_shifts = 3\n",
    "    num_days = 7\n",
    "    all_nurses = range(num_nurses)\n",
    "    all_shifts = range(num_shifts)\n",
    "    all_days = range(num_days)\n",
    "    shift_requests = [[[0, 0, 1], [0, 0, 0], [0, 0, 0], [0, 0, 0], [0, 0, 1],\n",
    "                       [0, 1, 0], [0, 0, 1]],\n",
    "                      [[0, 0, 0], [0, 0, 0], [0, 1, 0], [0, 1, 0], [1, 0, 0],\n",
    "                       [0, 0, 0], [0, 0, 1]],\n",
    "                      [[0, 1, 0], [0, 1, 0], [0, 0, 0], [1, 0, 0], [0, 0, 0],\n",
    "                       [0, 1, 0], [0, 0, 0]],\n",
    "                      [[0, 0, 1], [0, 0, 0], [1, 0, 0], [0, 1, 0], [0, 0, 0],\n",
    "                       [1, 0, 0], [0, 0, 0]],\n",
    "                      [[0, 0, 0], [0, 0, 1], [0, 1, 0], [0, 0, 0], [1, 0, 0],\n",
    "                       [0, 1, 0], [0, 0, 0]]]\n",
    "\n",
    "    # Creates the model.\n",
    "    model = cp_model.CpModel()\n",
    "\n",
    "    # Creates shift variables.\n",
    "    # shifts[(n, d, s)]: nurse 'n' works shift 's' on day 'd'.\n",
    "    shifts = {}\n",
    "    for n in all_nurses:\n",
    "        for d in all_days:\n",
    "            for s in all_shifts:\n",
    "                shifts[(n, d,\n",
    "                        s)] = model.NewBoolVar('shift_n%id%is%i' % (n, d, s))\n",
    "\n",
    "    # Each shift is assigned to exactly one nurse in .\n",
    "    for d in all_days:\n",
    "        for s in all_shifts:\n",
    "            model.Add(sum(shifts[(n, d, s)] for n in all_nurses) == 1)\n",
    "\n",
    "    # Each nurse works at most one shift per day.\n",
    "    for n in all_nurses:\n",
    "        for d in all_days:\n",
    "            model.Add(sum(shifts[(n, d, s)] for s in all_shifts) <= 1)\n",
    "\n",
    "    # Try to distribute the shifts evenly, so that each nurse works\n",
    "    # min_shifts_per_nurse shifts. If this is not possible, because the total\n",
    "    # number of shifts is not divisible by the number of nurses, some nurses will\n",
    "    # be assigned one more shift.\n",
    "    min_shifts_per_nurse = (num_shifts * num_days) // num_nurses\n",
    "    if num_shifts * num_days % num_nurses == 0:\n",
    "        max_shifts_per_nurse = min_shifts_per_nurse\n",
    "    else:\n",
    "        max_shifts_per_nurse = min_shifts_per_nurse + 1\n",
    "    for n in all_nurses:\n",
    "        num_shifts_worked = 0\n",
    "        for d in all_days:\n",
    "            for s in all_shifts:\n",
    "                num_shifts_worked += shifts[(n, d, s)]\n",
    "        model.Add(min_shifts_per_nurse <= num_shifts_worked)\n",
    "        model.Add(num_shifts_worked <= max_shifts_per_nurse)\n",
    "\n",
    "    # pylint: disable=g-complex-comprehension\n",
    "    model.Maximize(\n",
    "        sum(shift_requests[n][d][s] * shifts[(n, d, s)] for n in all_nurses\n",
    "            for d in all_days for s in all_shifts))\n",
    "\n",
    "    # Creates the solver and solve.\n",
    "    solver = cp_model.CpSolver()\n",
    "    status = solver.Solve(model)\n",
    "\n",
    "    if status == cp_model.OPTIMAL:\n",
    "        print('Solution:')\n",
    "        for d in all_days:\n",
    "            print('Day', d)\n",
    "            for n in all_nurses:\n",
    "                for s in all_shifts:\n",
    "                    if solver.Value(shifts[(n, d, s)]) == 1:\n",
    "                        if shift_requests[n][d][s] == 1:\n",
    "                            print('Nurse', n, 'works shift', s, '(requested).')\n",
    "                        else:\n",
    "                            print('Nurse', n, 'works shift', s,\n",
    "                                  '(not requested).')\n",
    "            print()\n",
    "        print(f'Number of shift requests met = {solver.ObjectiveValue()}',\n",
    "              f'(out of {num_nurses * min_shifts_per_nurse})')\n",
    "    else:\n",
    "        print('No optimal solution found !')\n",
    "\n",
    "    # Statistics.\n",
    "    print('\\nStatistics')\n",
    "    print('  - conflicts: %i' % solver.NumConflicts())\n",
    "    print('  - branches : %i' % solver.NumBranches())\n",
    "    print('  - wall time: %f s' % solver.WallTime())\n",
    "\n",
    "\n",
    "if __name__ == '__main__':\n",
    "    main()"
   ]
  }
 ],
 "metadata": {
  "interpreter": {
   "hash": "618af10fdd433c84be79e5d9cef7a85d74ad68be7e2e9dd9461a47b527f16862"
  },
  "kernelspec": {
   "display_name": "Python 3.8.8 64-bit ('base': conda)",
   "language": "python",
   "name": "python3"
  },
  "language_info": {
   "codemirror_mode": {
    "name": "ipython",
    "version": 3
   },
   "file_extension": ".py",
   "mimetype": "text/x-python",
   "name": "python",
   "nbconvert_exporter": "python",
   "pygments_lexer": "ipython3",
   "version": "3.8.8"
  },
  "orig_nbformat": 4
 },
 "nbformat": 4,
 "nbformat_minor": 2
}
