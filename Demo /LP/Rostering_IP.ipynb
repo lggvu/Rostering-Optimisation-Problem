{
 "cells": [
  {
   "cell_type": "code",
   "execution_count": 1,
   "metadata": {},
   "outputs": [],
   "source": [
    "from ortools.linear_solver import pywraplp"
   ]
  },
  {
   "cell_type": "code",
   "execution_count": 2,
   "metadata": {},
   "outputs": [
    {
     "name": "stdout",
     "output_type": "stream",
     "text": [
      "N = 9\n",
      "D = 5\n",
      "alpha = 1\n",
      "beta = 3\n",
      "[[0, 0, 0, 0, 0], [0, 0, 0, 1, 0], [0, 0, 0, 0, 0], [0, 0, 0, 0, 0], [0, 0, 0, 0, 0], [0, 0, 0, 0, 0], [0, 0, 0, 0, 0], [0, 0, 0, 0, 1], [0, 0, 0, 0, 0]]\n"
     ]
    }
   ],
   "source": [
    "def input(filename):\n",
    "    with open(filename) as f:\n",
    "        N, D, a, b = [int(x) for x in f.readline().split()]\n",
    "        day_off = [[0 for _ in range(D)] for _ in range(N)]\n",
    "        for i in range(N):\n",
    "            d = [int(x) for x in f.readline().split()[:-1]]\n",
    "            if d:\n",
    "                day_off[i][d[0]-1] = 1\n",
    "\n",
    "    return N, D, a, b, day_off\n",
    "\n",
    "\n",
    "filename = 'data.txt'\n",
    "N, D, a, b, day_off = input(filename)\n",
    "print('N =', N)\n",
    "print('D =', D)\n",
    "print('alpha =', a)\n",
    "print('beta =', b)\n",
    "print(day_off)"
   ]
  },
  {
   "cell_type": "code",
   "execution_count": 3,
   "metadata": {},
   "outputs": [],
   "source": [
    "solver = pywraplp.Solver('ROSTERING_MIP', pywraplp.Solver.CBC_MIXED_INTEGER_PROGRAMMING)\n",
    "INF = solver.infinity()\n",
    "\n",
    "\n",
    "# DECISION VARIABLES\n",
    "x = {}\n",
    "for i in range(N):\n",
    "    for j in range(D):\n",
    "        for k in range(1, 5):\n",
    "            x[i, j, k] = solver.IntVar(0, 1, f'x[{i}, {j}, {k}]')\n",
    "\n",
    "z = solver.IntVar(0, D, 'Z')"
   ]
  },
  {
   "cell_type": "code",
   "execution_count": 4,
   "metadata": {},
   "outputs": [],
   "source": [
    "# CONSTRAINTS\n",
    "# Each employee works no more than one shift every day\n",
    "for i in range(N):\n",
    "    for j in range(D):\n",
    "        if day_off[i][j] == 0:\n",
    "            cstr = solver.Constraint(-INF, 1)\n",
    "            for k in range(1, 5):\n",
    "                cstr.SetCoefficient(x[i, j, k], 1)\n",
    "            if j != 0:\n",
    "                cstr.SetCoefficient(x[i, j-1, 4], 1)"
   ]
  },
  {
   "cell_type": "code",
   "execution_count": 5,
   "metadata": {},
   "outputs": [],
   "source": [
    "# Employees can have a day off after having a night shift on the previous day\n",
    "for i in range(N):\n",
    "    for j in range(D):\n",
    "        if day_off[i][j] == 0:\n",
    "            cstr = solver.Constraint(-INF, 1)\n",
    "            for k in range(1, 5):\n",
    "                cstr.SetCoefficient(x[i, j, k], 1)\n",
    "                if j != 0:\n",
    "                    cstr.SetCoefficient(x[i, j-1, 4], 1)"
   ]
  },
  {
   "cell_type": "code",
   "execution_count": 6,
   "metadata": {},
   "outputs": [],
   "source": [
    "# Employees will not work on their day off\n",
    "for i in range(N):\n",
    "    for j in range(D):\n",
    "        if day_off[i][j] == 1:\n",
    "            cstr = solver.Constraint(0, 0)\n",
    "            for k in range(1, 5):\n",
    "                cstr.SetCoefficient(x[i, j, k], 1)"
   ]
  },
  {
   "cell_type": "code",
   "execution_count": 7,
   "metadata": {},
   "outputs": [],
   "source": [
    "# Each shift have at least alpha and beta employees at most\n",
    "for j in range(D):\n",
    "    for k in range(1, 5):\n",
    "        cstr = solver.Constraint(a, b)\n",
    "        for i in range(N):\n",
    "            cstr.SetCoefficient(x[i, j, k], 1)"
   ]
  },
  {
   "cell_type": "code",
   "execution_count": 8,
   "metadata": {},
   "outputs": [],
   "source": [
    "# OBJECTIVE FUNCTION\n",
    "for i in range(N):  # the maximum night shift of any employee is minimised\n",
    "    obj = solver.Constraint(0, INF)\n",
    "    for j in range(D):\n",
    "        obj.SetCoefficient(x[i, j, 4], -1)\n",
    "        obj.SetCoefficient(z, 1)"
   ]
  },
  {
   "cell_type": "code",
   "execution_count": 9,
   "metadata": {},
   "outputs": [],
   "source": [
    "solver.Minimize(z)\n",
    "status = solver.Solve()"
   ]
  },
  {
   "cell_type": "code",
   "execution_count": 10,
   "metadata": {},
   "outputs": [
    {
     "name": "stdout",
     "output_type": "stream",
     "text": [
      "Optimal value: 1.0\n",
      "Employee: 1 works on day 1, at shift 4\n",
      "Employee: 1 works on day 4, at shift 1\n",
      "Employee: 1 works on day 5, at shift 1\n",
      "Employee: 2 works on day 1, at shift 1\n",
      "Employee: 2 works on day 3, at shift 4\n",
      "Employee: 2 works on day 5, at shift 2\n",
      "Employee: 3 works on day 1, at shift 3\n",
      "Employee: 3 works on day 2, at shift 3\n",
      "Employee: 3 works on day 5, at shift 3\n",
      "Employee: 4 works on day 3, at shift 2\n",
      "Employee: 4 works on day 5, at shift 4\n",
      "Employee: 5 works on day 2, at shift 1\n",
      "Employee: 5 works on day 3, at shift 1\n",
      "Employee: 6 works on day 1, at shift 2\n",
      "Employee: 6 works on day 4, at shift 3\n",
      "Employee: 7 works on day 2, at shift 4\n",
      "Employee: 8 works on day 3, at shift 3\n",
      "Employee: 8 works on day 4, at shift 4\n",
      "Employee: 9 works on day 2, at shift 2\n",
      "Employee: 9 works on day 4, at shift 2\n"
     ]
    }
   ],
   "source": [
    "\n",
    "if __name__ == '__main__':\n",
    "    if status == pywraplp.Solver.OPTIMAL:\n",
    "        print('Optimal value:', solver.Objective().Value())\n",
    "        for i in range(N):\n",
    "            for j in range(D):\n",
    "                for k in range(1, 5):\n",
    "                    if x[i, j, k].solution_value() > 0:\n",
    "                        print(f'Employee: {i+1} works on day {j+1}, at shift {k}')"
   ]
  }
 ],
 "metadata": {
  "interpreter": {
   "hash": "618af10fdd433c84be79e5d9cef7a85d74ad68be7e2e9dd9461a47b527f16862"
  },
  "kernelspec": {
   "display_name": "Python 3.8.8 64-bit ('base': conda)",
   "language": "python",
   "name": "python3"
  },
  "language_info": {
   "codemirror_mode": {
    "name": "ipython",
    "version": 3
   },
   "file_extension": ".py",
   "mimetype": "text/x-python",
   "name": "python",
   "nbconvert_exporter": "python",
   "pygments_lexer": "ipython3",
   "version": "3.8.8"
  },
  "orig_nbformat": 4
 },
 "nbformat": 4,
 "nbformat_minor": 2
}
