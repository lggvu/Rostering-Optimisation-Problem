{
 "cells": [
  {
   "cell_type": "markdown",
   "metadata": {},
   "source": [
    "# 1. Data Processing"
   ]
  },
  {
   "cell_type": "code",
   "execution_count": 42,
   "metadata": {},
   "outputs": [],
   "source": [
    "# import the libraries \n",
    "import numpy as np\n",
    "import pandas as pd \n",
    "from ortools.linear_solver import pywraplp"
   ]
  },
  {
   "cell_type": "code",
   "execution_count": 43,
   "metadata": {},
   "outputs": [],
   "source": [
    "def input(filename):\n",
    "    with open(filename) as f:\n",
    "        N, D, a, b = [int(x) for x in f.readline().split()]\n",
    "        F = [[0 for _ in range(D)] for _ in range(N)]\n",
    "        # F is a matrix of size NxD, where F[i][j] = 1 is employ i has a day off on j-th day, else 0\n",
    "        for i in range(N):\n",
    "            d = [int(x) for x in f.readline().split()[:-1]]\n",
    "            if d:\n",
    "                F[i][d[0]-1] = 1\n",
    "\n",
    "    return N, D, a, b, F\n",
    "\n",
    "\n",
    "filename = 'data.txt'\n",
    "N, D, a, b, F = input(filename)"
   ]
  },
  {
   "cell_type": "code",
   "execution_count": 44,
   "metadata": {},
   "outputs": [],
   "source": [
    "# Check status to apply color for each type of status\n",
    "def status_color(value):\n",
    "  if value == \"Rest\": \n",
    "    color = 'Green'\n",
    "  elif value == \"Nigh\":\n",
    "    color = 'Red'\n",
    "  else:\n",
    "    color = 'White'\n",
    "  return 'background-color: %s' % color"
   ]
  },
  {
   "cell_type": "markdown",
   "metadata": {},
   "source": [
    "# 2. Optimization"
   ]
  },
  {
   "cell_type": "code",
   "execution_count": 45,
   "metadata": {},
   "outputs": [],
   "source": [
    "solver = pywraplp.Solver('ROSTERING_MIP', pywraplp.Solver.CBC_MIXED_INTEGER_PROGRAMMING)\n",
    "INF = solver.infinity()\n",
    "\n",
    "# DECISION VARIABLES\n",
    "x = {}\n",
    "for i in range(N):\n",
    "    for j in range(D):\n",
    "        for k in range(1, 5):\n",
    "            x[i, j, k] = solver.IntVar(0, 1, f'x[{i}, {j}, {k}]')\n",
    "\n",
    "z = solver.IntVar(0, D, 'z')  # z is an auxiliary variable to facilitate the objective function"
   ]
  },
  {
   "cell_type": "code",
   "execution_count": 46,
   "metadata": {},
   "outputs": [],
   "source": [
    "# CONSTRAINTS\n",
    "# Each employee works no more than one shift every day\n",
    "for i in range(N):\n",
    "    for j in range(D):\n",
    "        if F[i][j] == 0:\n",
    "            cstr = solver.Constraint(-INF, 1)\n",
    "            for k in range(1, 5):\n",
    "                cstr.SetCoefficient(x[i, j, k], 1)\n",
    "            if j != 0:\n",
    "                cstr.SetCoefficient(x[i, j-1, 4], 1)"
   ]
  },
  {
   "cell_type": "code",
   "execution_count": 47,
   "metadata": {},
   "outputs": [],
   "source": [
    "# Employees can have a day off after having a night shift on the previous day\n",
    "for i in range(N):\n",
    "    for j in range(D):\n",
    "        if F[i][j] == 0:\n",
    "            cstr = solver.Constraint(1, 1)\n",
    "            for k in range(1, 5):\n",
    "                cstr.SetCoefficient(x[i, j, k], 1)\n",
    "                if j != 0:\n",
    "                    cstr.SetCoefficient(x[i, j-1, 4], 1)"
   ]
  },
  {
   "cell_type": "code",
   "execution_count": 48,
   "metadata": {},
   "outputs": [],
   "source": [
    "# Employees will not work on their off days\n",
    "for i in range(N):\n",
    "    for j in range(D):\n",
    "        if F[i][j] == 1:\n",
    "            cstr = solver.Constraint(0, 0)\n",
    "            for k in range(1, 5):\n",
    "                cstr.SetCoefficient(x[i, j, k], 1)"
   ]
  },
  {
   "cell_type": "code",
   "execution_count": 49,
   "metadata": {},
   "outputs": [],
   "source": [
    "# Each shift have at least alpha and beta employees at most\n",
    "for j in range(D):\n",
    "    for k in range(1, 5):\n",
    "        cstr = solver.Constraint(a, b)\n",
    "        for i in range(N):\n",
    "            cstr.SetCoefficient(x[i, j, k], 1)"
   ]
  },
  {
   "cell_type": "code",
   "execution_count": 50,
   "metadata": {},
   "outputs": [],
   "source": [
    "# OBJECTIVE FUNCTION\n",
    "for i in range(N):  # the maximum night shift of any employee is minimize\n",
    "    obj = solver.Constraint(0, INF)\n",
    "    for j in range(D):\n",
    "        obj.SetCoefficient(x[i, j, 4], -1)\n",
    "        obj.SetCoefficient(z, 1)"
   ]
  },
  {
   "cell_type": "code",
   "execution_count": 51,
   "metadata": {},
   "outputs": [
    {
     "name": "stdout",
     "output_type": "stream",
     "text": [
      "Optimal value: 1.0\n",
      "Employee 1 works on day 1, at shift 2\n",
      "Employee 1 works on day 2, at shift 2\n",
      "Employee 1 works on day 3, at shift 2\n",
      "Employee 1 works on day 4, at shift 2\n",
      "Employee 1 works on day 5, at shift 1\n",
      "Employee 2 works on day 1, at shift 4\n",
      "Employee 2 works on day 3, at shift 3\n",
      "Employee 2 works on day 5, at shift 3\n",
      "Employee 3 works on day 1, at shift 3\n",
      "Employee 3 works on day 2, at shift 3\n",
      "Employee 3 works on day 3, at shift 1\n",
      "Employee 3 works on day 4, at shift 3\n",
      "Employee 3 works on day 5, at shift 2\n",
      "Employee 4 works on day 1, at shift 1\n",
      "Employee 4 works on day 2, at shift 3\n",
      "Employee 4 works on day 3, at shift 2\n",
      "Employee 4 works on day 4, at shift 3\n",
      "Employee 4 works on day 5, at shift 4\n",
      "Employee 5 works on day 1, at shift 2\n",
      "Employee 5 works on day 2, at shift 1\n",
      "Employee 5 works on day 3, at shift 4\n",
      "Employee 5 works on day 5, at shift 1\n",
      "Employee 6 works on day 1, at shift 2\n",
      "Employee 6 works on day 2, at shift 1\n",
      "Employee 6 works on day 3, at shift 3\n",
      "Employee 6 works on day 4, at shift 3\n",
      "Employee 6 works on day 5, at shift 3\n",
      "Employee 7 works on day 1, at shift 1\n",
      "Employee 7 works on day 2, at shift 4\n",
      "Employee 7 works on day 4, at shift 2\n",
      "Employee 7 works on day 5, at shift 2\n",
      "Employee 8 works on day 1, at shift 3\n",
      "Employee 8 works on day 2, at shift 3\n",
      "Employee 8 works on day 3, at shift 1\n",
      "Employee 8 works on day 4, at shift 4\n",
      "Employee 9 works on day 1, at shift 1\n",
      "Employee 9 works on day 2, at shift 2\n",
      "Employee 9 works on day 3, at shift 2\n",
      "Employee 9 works on day 4, at shift 1\n",
      "Employee 9 works on day 5, at shift 3\n"
     ]
    }
   ],
   "source": [
    "solver.Minimize(z)\n",
    "status = solver.Solve()\n",
    "\n",
    "if __name__ == '__main__':\n",
    "    if status == pywraplp.Solver.OPTIMAL:\n",
    "        print('Optimal value:', solver.Objective().Value())\n",
    "        for i in range(N):\n",
    "            for j in range(D):\n",
    "                for k in range(1, 5):\n",
    "                    if x[i, j, k].solution_value() > 0:\n",
    "                        print(f'Employee {i+1} works on day {j+1}, at shift {k}')\n",
    "    else:\n",
    "        print(\"No optimal solution!\")"
   ]
  },
  {
   "cell_type": "markdown",
   "metadata": {},
   "source": [
    "# 3. Visualization"
   ]
  },
  {
   "cell_type": "code",
   "execution_count": 52,
   "metadata": {},
   "outputs": [
    {
     "data": {
      "text/html": [
       "<style type=\"text/css\">\n",
       "#T_87b04_row0_col0, #T_87b04_row1_col0, #T_87b04_row1_col2, #T_87b04_row2_col1, #T_87b04_row2_col3, #T_87b04_row2_col4 {\n",
       "  background-color: #f2f2f2;\n",
       "  color: #000000;\n",
       "}\n",
       "#T_87b04_row0_col1, #T_87b04_row0_col2, #T_87b04_row0_col4, #T_87b04_row1_col1, #T_87b04_row1_col3, #T_87b04_row1_col4, #T_87b04_row2_col0, #T_87b04_row2_col2 {\n",
       "  background-color: #fed9a6;\n",
       "  color: #000000;\n",
       "}\n",
       "#T_87b04_row0_col3, #T_87b04_row3_col0, #T_87b04_row3_col1, #T_87b04_row3_col2, #T_87b04_row3_col3, #T_87b04_row3_col4 {\n",
       "  background-color: #fbb4ae;\n",
       "  color: #000000;\n",
       "}\n",
       "</style>\n",
       "<table id=\"T_87b04_\">\n",
       "  <thead>\n",
       "    <tr>\n",
       "      <th class=\"blank level0\" >&nbsp;</th>\n",
       "      <th class=\"col_heading level0 col0\" >Day 1</th>\n",
       "      <th class=\"col_heading level0 col1\" >Day 2</th>\n",
       "      <th class=\"col_heading level0 col2\" >Day 3</th>\n",
       "      <th class=\"col_heading level0 col3\" >Day 4</th>\n",
       "      <th class=\"col_heading level0 col4\" >Day 5</th>\n",
       "    </tr>\n",
       "  </thead>\n",
       "  <tbody>\n",
       "    <tr>\n",
       "      <th id=\"T_87b04_level0_row0\" class=\"row_heading level0 row0\" >Morning</th>\n",
       "      <td id=\"T_87b04_row0_col0\" class=\"data row0 col0\" >3</td>\n",
       "      <td id=\"T_87b04_row0_col1\" class=\"data row0 col1\" >2</td>\n",
       "      <td id=\"T_87b04_row0_col2\" class=\"data row0 col2\" >2</td>\n",
       "      <td id=\"T_87b04_row0_col3\" class=\"data row0 col3\" >1</td>\n",
       "      <td id=\"T_87b04_row0_col4\" class=\"data row0 col4\" >2</td>\n",
       "    </tr>\n",
       "    <tr>\n",
       "      <th id=\"T_87b04_level0_row1\" class=\"row_heading level0 row1\" >Noon</th>\n",
       "      <td id=\"T_87b04_row1_col0\" class=\"data row1 col0\" >3</td>\n",
       "      <td id=\"T_87b04_row1_col1\" class=\"data row1 col1\" >2</td>\n",
       "      <td id=\"T_87b04_row1_col2\" class=\"data row1 col2\" >3</td>\n",
       "      <td id=\"T_87b04_row1_col3\" class=\"data row1 col3\" >2</td>\n",
       "      <td id=\"T_87b04_row1_col4\" class=\"data row1 col4\" >2</td>\n",
       "    </tr>\n",
       "    <tr>\n",
       "      <th id=\"T_87b04_level0_row2\" class=\"row_heading level0 row2\" >Afternoon</th>\n",
       "      <td id=\"T_87b04_row2_col0\" class=\"data row2 col0\" >2</td>\n",
       "      <td id=\"T_87b04_row2_col1\" class=\"data row2 col1\" >3</td>\n",
       "      <td id=\"T_87b04_row2_col2\" class=\"data row2 col2\" >2</td>\n",
       "      <td id=\"T_87b04_row2_col3\" class=\"data row2 col3\" >3</td>\n",
       "      <td id=\"T_87b04_row2_col4\" class=\"data row2 col4\" >3</td>\n",
       "    </tr>\n",
       "    <tr>\n",
       "      <th id=\"T_87b04_level0_row3\" class=\"row_heading level0 row3\" >Night</th>\n",
       "      <td id=\"T_87b04_row3_col0\" class=\"data row3 col0\" >1</td>\n",
       "      <td id=\"T_87b04_row3_col1\" class=\"data row3 col1\" >1</td>\n",
       "      <td id=\"T_87b04_row3_col2\" class=\"data row3 col2\" >1</td>\n",
       "      <td id=\"T_87b04_row3_col3\" class=\"data row3 col3\" >1</td>\n",
       "      <td id=\"T_87b04_row3_col4\" class=\"data row3 col4\" >1</td>\n",
       "    </tr>\n",
       "  </tbody>\n",
       "</table>\n"
      ],
      "text/plain": [
       "<pandas.io.formats.style.Styler at 0x7f8ce0d4ea90>"
      ]
     },
     "execution_count": 52,
     "metadata": {},
     "output_type": "execute_result"
    }
   ],
   "source": [
    "# Create S to store day rest of each staff\n",
    "# Definite shift > 0, so create S(N,D,5) with first col useless\n",
    "S = np.full((N, D, 5), 0)\n",
    "\n",
    "for staff in range(N):\n",
    "    for day in range(D):\n",
    "        for shift in range(1,5):\n",
    "            # add value to matrix S full 0 \n",
    "            S[staff, day, shift] = int(x[staff, day, shift].solution_value())\n",
    "\n",
    "shifts = np.array([\"Morning\", \"Noon\", \"Afternoon\", \"Night\"])\n",
    "days = np.array([f\"Day {day}\" for day in range(1,D+1)])\n",
    "day_shifts = np.sum(S, axis=0)\n",
    "day_shifts_solution = pd.DataFrame(data=day_shifts[:, 1:].T, index=shifts, columns=days)\n",
    "\n",
    "# Visualize number staffs for each shift of day\n",
    "day_shifts_solution.style.background_gradient(cmap='Pastel1')"
   ]
  },
  {
   "cell_type": "code",
   "execution_count": 53,
   "metadata": {},
   "outputs": [
    {
     "data": {
      "text/html": [
       "<style type=\"text/css\">\n",
       "#T_556df_row0_col0, #T_556df_row0_col2, #T_556df_row0_col3, #T_556df_row0_col4, #T_556df_row0_col5, #T_556df_row0_col6, #T_556df_row0_col7, #T_556df_row0_col8, #T_556df_row1_col0, #T_556df_row1_col2, #T_556df_row1_col3, #T_556df_row1_col4, #T_556df_row1_col5, #T_556df_row1_col7, #T_556df_row1_col8, #T_556df_row2_col0, #T_556df_row2_col1, #T_556df_row2_col2, #T_556df_row2_col3, #T_556df_row2_col5, #T_556df_row2_col7, #T_556df_row2_col8, #T_556df_row3_col0, #T_556df_row3_col2, #T_556df_row3_col3, #T_556df_row3_col5, #T_556df_row3_col6, #T_556df_row3_col8, #T_556df_row4_col0, #T_556df_row4_col1, #T_556df_row4_col2, #T_556df_row4_col4, #T_556df_row4_col5, #T_556df_row4_col6, #T_556df_row4_col8 {\n",
       "  background-color: White;\n",
       "}\n",
       "#T_556df_row0_col1, #T_556df_row1_col6, #T_556df_row2_col4, #T_556df_row3_col7, #T_556df_row4_col3 {\n",
       "  background-color: Red;\n",
       "}\n",
       "#T_556df_row1_col1, #T_556df_row2_col6, #T_556df_row3_col1, #T_556df_row3_col4, #T_556df_row4_col7 {\n",
       "  background-color: Green;\n",
       "}\n",
       "</style>\n",
       "<table id=\"T_556df_\">\n",
       "  <thead>\n",
       "    <tr>\n",
       "      <th class=\"blank level0\" >&nbsp;</th>\n",
       "      <th class=\"col_heading level0 col0\" >Staff 1</th>\n",
       "      <th class=\"col_heading level0 col1\" >Staff 2</th>\n",
       "      <th class=\"col_heading level0 col2\" >Staff 3</th>\n",
       "      <th class=\"col_heading level0 col3\" >Staff 4</th>\n",
       "      <th class=\"col_heading level0 col4\" >Staff 5</th>\n",
       "      <th class=\"col_heading level0 col5\" >Staff 6</th>\n",
       "      <th class=\"col_heading level0 col6\" >Staff 7</th>\n",
       "      <th class=\"col_heading level0 col7\" >Staff 8</th>\n",
       "      <th class=\"col_heading level0 col8\" >Staff 9</th>\n",
       "    </tr>\n",
       "  </thead>\n",
       "  <tbody>\n",
       "    <tr>\n",
       "      <th id=\"T_556df_level0_row0\" class=\"row_heading level0 row0\" >Day 1</th>\n",
       "      <td id=\"T_556df_row0_col0\" class=\"data row0 col0\" >Noon</td>\n",
       "      <td id=\"T_556df_row0_col1\" class=\"data row0 col1\" >Nigh</td>\n",
       "      <td id=\"T_556df_row0_col2\" class=\"data row0 col2\" >Afte</td>\n",
       "      <td id=\"T_556df_row0_col3\" class=\"data row0 col3\" >Morn</td>\n",
       "      <td id=\"T_556df_row0_col4\" class=\"data row0 col4\" >Noon</td>\n",
       "      <td id=\"T_556df_row0_col5\" class=\"data row0 col5\" >Noon</td>\n",
       "      <td id=\"T_556df_row0_col6\" class=\"data row0 col6\" >Morn</td>\n",
       "      <td id=\"T_556df_row0_col7\" class=\"data row0 col7\" >Afte</td>\n",
       "      <td id=\"T_556df_row0_col8\" class=\"data row0 col8\" >Morn</td>\n",
       "    </tr>\n",
       "    <tr>\n",
       "      <th id=\"T_556df_level0_row1\" class=\"row_heading level0 row1\" >Day 2</th>\n",
       "      <td id=\"T_556df_row1_col0\" class=\"data row1 col0\" >Noon</td>\n",
       "      <td id=\"T_556df_row1_col1\" class=\"data row1 col1\" >Rest</td>\n",
       "      <td id=\"T_556df_row1_col2\" class=\"data row1 col2\" >Afte</td>\n",
       "      <td id=\"T_556df_row1_col3\" class=\"data row1 col3\" >Afte</td>\n",
       "      <td id=\"T_556df_row1_col4\" class=\"data row1 col4\" >Morn</td>\n",
       "      <td id=\"T_556df_row1_col5\" class=\"data row1 col5\" >Morn</td>\n",
       "      <td id=\"T_556df_row1_col6\" class=\"data row1 col6\" >Nigh</td>\n",
       "      <td id=\"T_556df_row1_col7\" class=\"data row1 col7\" >Afte</td>\n",
       "      <td id=\"T_556df_row1_col8\" class=\"data row1 col8\" >Noon</td>\n",
       "    </tr>\n",
       "    <tr>\n",
       "      <th id=\"T_556df_level0_row2\" class=\"row_heading level0 row2\" >Day 3</th>\n",
       "      <td id=\"T_556df_row2_col0\" class=\"data row2 col0\" >Noon</td>\n",
       "      <td id=\"T_556df_row2_col1\" class=\"data row2 col1\" >Afte</td>\n",
       "      <td id=\"T_556df_row2_col2\" class=\"data row2 col2\" >Morn</td>\n",
       "      <td id=\"T_556df_row2_col3\" class=\"data row2 col3\" >Noon</td>\n",
       "      <td id=\"T_556df_row2_col4\" class=\"data row2 col4\" >Nigh</td>\n",
       "      <td id=\"T_556df_row2_col5\" class=\"data row2 col5\" >Afte</td>\n",
       "      <td id=\"T_556df_row2_col6\" class=\"data row2 col6\" >Rest</td>\n",
       "      <td id=\"T_556df_row2_col7\" class=\"data row2 col7\" >Morn</td>\n",
       "      <td id=\"T_556df_row2_col8\" class=\"data row2 col8\" >Noon</td>\n",
       "    </tr>\n",
       "    <tr>\n",
       "      <th id=\"T_556df_level0_row3\" class=\"row_heading level0 row3\" >Day 4</th>\n",
       "      <td id=\"T_556df_row3_col0\" class=\"data row3 col0\" >Noon</td>\n",
       "      <td id=\"T_556df_row3_col1\" class=\"data row3 col1\" >Rest</td>\n",
       "      <td id=\"T_556df_row3_col2\" class=\"data row3 col2\" >Afte</td>\n",
       "      <td id=\"T_556df_row3_col3\" class=\"data row3 col3\" >Afte</td>\n",
       "      <td id=\"T_556df_row3_col4\" class=\"data row3 col4\" >Rest</td>\n",
       "      <td id=\"T_556df_row3_col5\" class=\"data row3 col5\" >Afte</td>\n",
       "      <td id=\"T_556df_row3_col6\" class=\"data row3 col6\" >Noon</td>\n",
       "      <td id=\"T_556df_row3_col7\" class=\"data row3 col7\" >Nigh</td>\n",
       "      <td id=\"T_556df_row3_col8\" class=\"data row3 col8\" >Morn</td>\n",
       "    </tr>\n",
       "    <tr>\n",
       "      <th id=\"T_556df_level0_row4\" class=\"row_heading level0 row4\" >Day 5</th>\n",
       "      <td id=\"T_556df_row4_col0\" class=\"data row4 col0\" >Morn</td>\n",
       "      <td id=\"T_556df_row4_col1\" class=\"data row4 col1\" >Afte</td>\n",
       "      <td id=\"T_556df_row4_col2\" class=\"data row4 col2\" >Noon</td>\n",
       "      <td id=\"T_556df_row4_col3\" class=\"data row4 col3\" >Nigh</td>\n",
       "      <td id=\"T_556df_row4_col4\" class=\"data row4 col4\" >Morn</td>\n",
       "      <td id=\"T_556df_row4_col5\" class=\"data row4 col5\" >Afte</td>\n",
       "      <td id=\"T_556df_row4_col6\" class=\"data row4 col6\" >Noon</td>\n",
       "      <td id=\"T_556df_row4_col7\" class=\"data row4 col7\" >Rest</td>\n",
       "      <td id=\"T_556df_row4_col8\" class=\"data row4 col8\" >Afte</td>\n",
       "    </tr>\n",
       "  </tbody>\n",
       "</table>\n"
      ],
      "text/plain": [
       "<pandas.io.formats.style.Styler at 0x7f8ce0d4e490>"
      ]
     },
     "execution_count": 53,
     "metadata": {},
     "output_type": "execute_result"
    }
   ],
   "source": [
    "col = np.array([f\"Staff {staff}\" for staff in range(1,N+1)])\n",
    "row = days\n",
    "details_ip = np.full((D,N),\"Rest\")\n",
    "\n",
    "for r in range(D):\n",
    "  for c in range(N):\n",
    "    for shift in range(1,5):\n",
    "      if S[c,r,shift] == 1:\n",
    "        details_ip[r,c] = shifts[shift-1]\n",
    "        break\n",
    "\n",
    "# Visualize details shift for each staff\n",
    "pf_details_ip = pd.DataFrame(data = details_ip, index = row, columns = col)\n",
    "pf_details_ip.style.applymap(status_color)"
   ]
  }
 ],
 "metadata": {
  "interpreter": {
   "hash": "618af10fdd433c84be79e5d9cef7a85d74ad68be7e2e9dd9461a47b527f16862"
  },
  "kernelspec": {
   "display_name": "Python 3.8.8 64-bit ('base': conda)",
   "language": "python",
   "name": "python3"
  },
  "language_info": {
   "codemirror_mode": {
    "name": "ipython",
    "version": 3
   },
   "file_extension": ".py",
   "mimetype": "text/x-python",
   "name": "python",
   "nbconvert_exporter": "python",
   "pygments_lexer": "ipython3",
   "version": "3.8.8"
  },
  "orig_nbformat": 4
 },
 "nbformat": 4,
 "nbformat_minor": 2
}
