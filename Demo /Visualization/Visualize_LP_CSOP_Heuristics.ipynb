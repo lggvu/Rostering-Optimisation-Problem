{
 "cells": [
  {
   "cell_type": "markdown",
   "metadata": {},
   "source": [
    "# 1. Data Processing"
   ]
  },
  {
   "cell_type": "code",
   "execution_count": 90,
   "metadata": {},
   "outputs": [],
   "source": [
    "# import the libraries \n",
    "import numpy as np\n",
    "import pandas as pd \n",
    "from ortools.sat.python import cp_model\n",
    "from ortools.linear_solver import pywraplp"
   ]
  },
  {
   "cell_type": "code",
   "execution_count": 91,
   "metadata": {},
   "outputs": [],
   "source": [
    "# Read Data \n",
    "def read_data(file):\n",
    "    with open(file, 'r') as file:\n",
    "        # read first line \n",
    "        n, d, a, b = [int(x) for x in file.readline().split()] \n",
    "\n",
    "        # Matrix (n,d) full 0, if staff i rest day d(i) -> convert to 1 \n",
    "        F = np.full((n, d), 0)  \n",
    "        for staff in range(n):\n",
    "            # read each line to end, [:-1] bcs end of each line is -1 \n",
    "            temp = [int(x) for x in file.readline().split()[:-1]]  #check each line from 2 -> i+1\n",
    "            for day in temp:\n",
    "                F[staff, day-1] = 1 # day-1 bcs index of list\n",
    "    return n, d, a, b, F\n",
    "\n",
    "# Input \n",
    "n, d, a, b, F = read_data(\"data.txt\")"
   ]
  },
  {
   "cell_type": "code",
   "execution_count": 92,
   "metadata": {},
   "outputs": [
    {
     "name": "stdout",
     "output_type": "stream",
     "text": [
      "Number of Staffs: 9\n",
      "Number of Days: 5\n",
      "Range staffs of a shift: 1 -> 3\n",
      "List rest day of staff i:\n",
      "[[0 0 0 0 0]\n",
      " [0 0 0 1 0]\n",
      " [0 0 0 0 0]\n",
      " [0 0 0 0 0]\n",
      " [0 0 0 0 0]\n",
      " [0 0 0 0 0]\n",
      " [0 0 0 0 0]\n",
      " [0 0 0 0 1]\n",
      " [0 0 0 0 0]]\n"
     ]
    }
   ],
   "source": [
    "print(\"Number of Staffs: {}\\nNumber of Days: {}\\nRange staffs of a shift: {} -> {}\\nList rest day of staff i:\\n{}\".format(n,d,a,b,F))"
   ]
  },
  {
   "cell_type": "code",
   "execution_count": 93,
   "metadata": {},
   "outputs": [],
   "source": [
    "# Check status to apply color for each type of status\n",
    "def status_color(value):\n",
    "  if value == \"Rest\": \n",
    "    color = 'red'\n",
    "  elif value == \"Night\":\n",
    "    color = 'yellow'\n",
    "  else:\n",
    "    color = 'white'\n",
    "  return 'background-color: %s' %color"
   ]
  },
  {
   "cell_type": "markdown",
   "metadata": {},
   "source": [
    "# 2. CSOP"
   ]
  },
  {
   "cell_type": "markdown",
   "metadata": {},
   "source": [
    "## 2.1. Optimization"
   ]
  },
  {
   "cell_type": "code",
   "execution_count": 94,
   "metadata": {},
   "outputs": [],
   "source": [
    "# Declare the Model \n",
    "model = cp_model.CpModel()\n",
    "\n",
    "# Create the Variables\n",
    "# X[staff, day, shift] = 1 if staff i work on shift k of day j \n",
    "# X[staff, day, shift] = 0, otw\n",
    "X = {} \n",
    "for staff in range(n):              # check each staff \n",
    "    for day in range(d):            # check each staff\n",
    "        for shift in range(1,5):    # check each shift\n",
    "            X[staff, day, shift] = model.NewIntVar(0,1,\"X[{},{},{}]\".format(staff,day,shift))"
   ]
  },
  {
   "cell_type": "code",
   "execution_count": 95,
   "metadata": {},
   "outputs": [],
   "source": [
    "# Each day, a staff can only work one shift at most\n",
    "for staff in range(n):    \n",
    "    for day in range(d):   \n",
    "        if F[staff, day] == 0:\n",
    "            if day == 0:\n",
    "                model.Add(sum([X[staff, day, shift] for shift in range(1,5)]) == 1)\n",
    "            # If you work the night shift the day before, you can rest the next day\n",
    "            else:\n",
    "                model.Add(sum([X[staff, day, shift] for shift in range(1,5)]) + X[staff, day - 1, 4] == 1)\n",
    "        else: # F[staff, day] == 1\n",
    "            model.Add(sum([X[staff, day, shift] for shift in range(1,5)]) == 0)"
   ]
  },
  {
   "cell_type": "code",
   "execution_count": 96,
   "metadata": {},
   "outputs": [],
   "source": [
    "# Each shift in each day has at least [a] staffs and at most [b] staffs\n",
    "for day in range(d):               \n",
    "    for shift in range(1,5):    \n",
    "        model.Add(sum([X[staff, day, shift] for staff in range(n)]) >= a)\n",
    "        model.Add(sum([X[staff, day, shift] for staff in range(n)]) <= b)"
   ]
  },
  {
   "cell_type": "code",
   "execution_count": 97,
   "metadata": {},
   "outputs": [],
   "source": [
    "# F(i): list of staff rest days i\n",
    "# The maximum number of night shifts assigned to a specific staff is the smallest\n",
    "\n",
    "max_night_shift = model.NewIntVar(1, int(d/2) + 1, 'max_night_shift') # limit rest day = 1/2 all days\n",
    "# for loop add constraint confirm sum of all night shift of staff <= max_night_shift\n",
    "for staff in range(n):\n",
    "    model.Add(sum([X[staff, day, 4] for day in range(d)]) - max_night_shift <= 0)"
   ]
  },
  {
   "cell_type": "code",
   "execution_count": 108,
   "metadata": {},
   "outputs": [
    {
     "name": "stdout",
     "output_type": "stream",
     "text": [
      "Minimize of max night shift:  1.0\n"
     ]
    }
   ],
   "source": [
    "# Objective Function\n",
    "model.Minimize(max_night_shift)\n",
    "\n",
    "# Solver\n",
    "solver = cp_model.CpSolver()\n",
    "status = solver.Solve(model)\n",
    "\n",
    "if status == cp_model.OPTIMAL:\n",
    "  print(\"Minimize of max night shift: \", solver.ObjectiveValue())"
   ]
  },
  {
   "cell_type": "markdown",
   "metadata": {},
   "source": [
    "## 2.2. Visualization"
   ]
  },
  {
   "cell_type": "code",
   "execution_count": 113,
   "metadata": {},
   "outputs": [
    {
     "data": {
      "text/html": [
       "<style type=\"text/css\">\n",
       "#T_f3dca_row0_col0, #T_f3dca_row0_col1, #T_f3dca_row0_col2, #T_f3dca_row0_col3, #T_f3dca_row1_col1, #T_f3dca_row1_col4, #T_f3dca_row2_col0, #T_f3dca_row2_col1, #T_f3dca_row2_col3 {\n",
       "  background-color: #cccccc;\n",
       "  color: #000000;\n",
       "}\n",
       "#T_f3dca_row0_col4, #T_f3dca_row1_col0, #T_f3dca_row1_col3, #T_f3dca_row2_col2, #T_f3dca_row3_col1, #T_f3dca_row3_col3, #T_f3dca_row3_col4 {\n",
       "  background-color: #b3e2cd;\n",
       "  color: #000000;\n",
       "}\n",
       "#T_f3dca_row1_col2, #T_f3dca_row2_col4, #T_f3dca_row3_col0, #T_f3dca_row3_col2 {\n",
       "  background-color: #e6f5c9;\n",
       "  color: #000000;\n",
       "}\n",
       "</style>\n",
       "<table id=\"T_f3dca_\">\n",
       "  <thead>\n",
       "    <tr>\n",
       "      <th class=\"blank level0\" >&nbsp;</th>\n",
       "      <th class=\"col_heading level0 col0\" >Day 1</th>\n",
       "      <th class=\"col_heading level0 col1\" >Day 2</th>\n",
       "      <th class=\"col_heading level0 col2\" >Day 3</th>\n",
       "      <th class=\"col_heading level0 col3\" >Day 4</th>\n",
       "      <th class=\"col_heading level0 col4\" >Day 5</th>\n",
       "    </tr>\n",
       "  </thead>\n",
       "  <tbody>\n",
       "    <tr>\n",
       "      <th id=\"T_f3dca_level0_row0\" class=\"row_heading level0 row0\" >Morning</th>\n",
       "      <td id=\"T_f3dca_row0_col0\" class=\"data row0 col0\" >3</td>\n",
       "      <td id=\"T_f3dca_row0_col1\" class=\"data row0 col1\" >2</td>\n",
       "      <td id=\"T_f3dca_row0_col2\" class=\"data row0 col2\" >3</td>\n",
       "      <td id=\"T_f3dca_row0_col3\" class=\"data row0 col3\" >2</td>\n",
       "      <td id=\"T_f3dca_row0_col4\" class=\"data row0 col4\" >1</td>\n",
       "    </tr>\n",
       "    <tr>\n",
       "      <th id=\"T_f3dca_level0_row1\" class=\"row_heading level0 row1\" >Noon</th>\n",
       "      <td id=\"T_f3dca_row1_col0\" class=\"data row1 col0\" >1</td>\n",
       "      <td id=\"T_f3dca_row1_col1\" class=\"data row1 col1\" >2</td>\n",
       "      <td id=\"T_f3dca_row1_col2\" class=\"data row1 col2\" >2</td>\n",
       "      <td id=\"T_f3dca_row1_col3\" class=\"data row1 col3\" >1</td>\n",
       "      <td id=\"T_f3dca_row1_col4\" class=\"data row1 col4\" >3</td>\n",
       "    </tr>\n",
       "    <tr>\n",
       "      <th id=\"T_f3dca_level0_row2\" class=\"row_heading level0 row2\" >Afternoon</th>\n",
       "      <td id=\"T_f3dca_row2_col0\" class=\"data row2 col0\" >3</td>\n",
       "      <td id=\"T_f3dca_row2_col1\" class=\"data row2 col1\" >2</td>\n",
       "      <td id=\"T_f3dca_row2_col2\" class=\"data row2 col2\" >1</td>\n",
       "      <td id=\"T_f3dca_row2_col3\" class=\"data row2 col3\" >2</td>\n",
       "      <td id=\"T_f3dca_row2_col4\" class=\"data row2 col4\" >2</td>\n",
       "    </tr>\n",
       "    <tr>\n",
       "      <th id=\"T_f3dca_level0_row3\" class=\"row_heading level0 row3\" >Night</th>\n",
       "      <td id=\"T_f3dca_row3_col0\" class=\"data row3 col0\" >2</td>\n",
       "      <td id=\"T_f3dca_row3_col1\" class=\"data row3 col1\" >1</td>\n",
       "      <td id=\"T_f3dca_row3_col2\" class=\"data row3 col2\" >2</td>\n",
       "      <td id=\"T_f3dca_row3_col3\" class=\"data row3 col3\" >1</td>\n",
       "      <td id=\"T_f3dca_row3_col4\" class=\"data row3 col4\" >1</td>\n",
       "    </tr>\n",
       "  </tbody>\n",
       "</table>\n"
      ],
      "text/plain": [
       "<pandas.io.formats.style.Styler at 0x7fdd60381fd0>"
      ]
     },
     "execution_count": 113,
     "metadata": {},
     "output_type": "execute_result"
    }
   ],
   "source": [
    "# Matrix (n,d,s=5) full 0, if staff i works day j, shift k -> 1 add to matrix; 0 otw\n",
    "# S is work calendar of each staff \n",
    "S = np.full((n, d, 5), 0)\n",
    "for staff in range(n):\n",
    "    for day in range(d):\n",
    "        for shift in range(1, 5):\n",
    "            S[staff, day, shift] = int(solver.Value(X[staff, day, shift])) # return {0;1}\n",
    "\n",
    "# Label days & Shift to visualize\n",
    "days = np.array([f\"Day {day}\" for day in range(1,d+1)])\n",
    "shifts = np.array([\"Morning\", \"Noon\", \"Afternoon\", \"Night\"])\n",
    "\n",
    "# Flat S by axis 0, use sum to return matrix include sum staff for each shift day\n",
    "staff_per_shift = np.sum(S, axis=0)\n",
    "# Create pandas DF to visualize\n",
    "df_staff_shift = pd.DataFrame(data=staff_per_shift[:, 1:].T, index=shifts, columns=days)\n",
    "\n",
    "# Visualize number staffs for each shift of day\n",
    "df.style.background_gradient(cmap='Pastel2')"
   ]
  },
  {
   "cell_type": "code",
   "execution_count": 114,
   "metadata": {},
   "outputs": [
    {
     "data": {
      "text/html": [
       "<style type=\"text/css\">\n",
       "#T_8357d_row0_col0, #T_8357d_row0_col1, #T_8357d_row0_col2, #T_8357d_row0_col3, #T_8357d_row0_col4, #T_8357d_row0_col5, #T_8357d_row0_col6, #T_8357d_row0_col7, #T_8357d_row0_col8, #T_8357d_row1_col0, #T_8357d_row1_col1, #T_8357d_row1_col2, #T_8357d_row1_col3, #T_8357d_row1_col4, #T_8357d_row1_col5, #T_8357d_row1_col8, #T_8357d_row2_col1, #T_8357d_row2_col2, #T_8357d_row2_col3, #T_8357d_row2_col4, #T_8357d_row2_col5, #T_8357d_row2_col6, #T_8357d_row2_col7, #T_8357d_row2_col8, #T_8357d_row3_col0, #T_8357d_row3_col2, #T_8357d_row3_col3, #T_8357d_row3_col6, #T_8357d_row3_col7, #T_8357d_row3_col8, #T_8357d_row4_col0, #T_8357d_row4_col1, #T_8357d_row4_col2, #T_8357d_row4_col4, #T_8357d_row4_col5, #T_8357d_row4_col6, #T_8357d_row4_col8 {\n",
       "  background-color: white;\n",
       "}\n",
       "#T_8357d_row1_col6, #T_8357d_row1_col7, #T_8357d_row2_col0, #T_8357d_row3_col1, #T_8357d_row3_col4, #T_8357d_row3_col5, #T_8357d_row4_col3, #T_8357d_row4_col7 {\n",
       "  background-color: red;\n",
       "}\n",
       "</style>\n",
       "<table id=\"T_8357d_\">\n",
       "  <thead>\n",
       "    <tr>\n",
       "      <th class=\"blank level0\" >&nbsp;</th>\n",
       "      <th class=\"col_heading level0 col0\" >Staff 1</th>\n",
       "      <th class=\"col_heading level0 col1\" >Staff 2</th>\n",
       "      <th class=\"col_heading level0 col2\" >Staff 3</th>\n",
       "      <th class=\"col_heading level0 col3\" >Staff 4</th>\n",
       "      <th class=\"col_heading level0 col4\" >Staff 5</th>\n",
       "      <th class=\"col_heading level0 col5\" >Staff 6</th>\n",
       "      <th class=\"col_heading level0 col6\" >Staff 7</th>\n",
       "      <th class=\"col_heading level0 col7\" >Staff 8</th>\n",
       "      <th class=\"col_heading level0 col8\" >Staff 9</th>\n",
       "    </tr>\n",
       "  </thead>\n",
       "  <tbody>\n",
       "    <tr>\n",
       "      <th id=\"T_8357d_level0_row0\" class=\"row_heading level0 row0\" >Day 1</th>\n",
       "      <td id=\"T_8357d_row0_col0\" class=\"data row0 col0\" >Morn</td>\n",
       "      <td id=\"T_8357d_row0_col1\" class=\"data row0 col1\" >Noon</td>\n",
       "      <td id=\"T_8357d_row0_col2\" class=\"data row0 col2\" >Afte</td>\n",
       "      <td id=\"T_8357d_row0_col3\" class=\"data row0 col3\" >Morn</td>\n",
       "      <td id=\"T_8357d_row0_col4\" class=\"data row0 col4\" >Morn</td>\n",
       "      <td id=\"T_8357d_row0_col5\" class=\"data row0 col5\" >Afte</td>\n",
       "      <td id=\"T_8357d_row0_col6\" class=\"data row0 col6\" >Nigh</td>\n",
       "      <td id=\"T_8357d_row0_col7\" class=\"data row0 col7\" >Nigh</td>\n",
       "      <td id=\"T_8357d_row0_col8\" class=\"data row0 col8\" >Afte</td>\n",
       "    </tr>\n",
       "    <tr>\n",
       "      <th id=\"T_8357d_level0_row1\" class=\"row_heading level0 row1\" >Day 2</th>\n",
       "      <td id=\"T_8357d_row1_col0\" class=\"data row1 col0\" >Nigh</td>\n",
       "      <td id=\"T_8357d_row1_col1\" class=\"data row1 col1\" >Noon</td>\n",
       "      <td id=\"T_8357d_row1_col2\" class=\"data row1 col2\" >Morn</td>\n",
       "      <td id=\"T_8357d_row1_col3\" class=\"data row1 col3\" >Morn</td>\n",
       "      <td id=\"T_8357d_row1_col4\" class=\"data row1 col4\" >Afte</td>\n",
       "      <td id=\"T_8357d_row1_col5\" class=\"data row1 col5\" >Afte</td>\n",
       "      <td id=\"T_8357d_row1_col6\" class=\"data row1 col6\" >Rest</td>\n",
       "      <td id=\"T_8357d_row1_col7\" class=\"data row1 col7\" >Rest</td>\n",
       "      <td id=\"T_8357d_row1_col8\" class=\"data row1 col8\" >Noon</td>\n",
       "    </tr>\n",
       "    <tr>\n",
       "      <th id=\"T_8357d_level0_row2\" class=\"row_heading level0 row2\" >Day 3</th>\n",
       "      <td id=\"T_8357d_row2_col0\" class=\"data row2 col0\" >Rest</td>\n",
       "      <td id=\"T_8357d_row2_col1\" class=\"data row2 col1\" >Morn</td>\n",
       "      <td id=\"T_8357d_row2_col2\" class=\"data row2 col2\" >Noon</td>\n",
       "      <td id=\"T_8357d_row2_col3\" class=\"data row2 col3\" >Morn</td>\n",
       "      <td id=\"T_8357d_row2_col4\" class=\"data row2 col4\" >Nigh</td>\n",
       "      <td id=\"T_8357d_row2_col5\" class=\"data row2 col5\" >Nigh</td>\n",
       "      <td id=\"T_8357d_row2_col6\" class=\"data row2 col6\" >Morn</td>\n",
       "      <td id=\"T_8357d_row2_col7\" class=\"data row2 col7\" >Afte</td>\n",
       "      <td id=\"T_8357d_row2_col8\" class=\"data row2 col8\" >Noon</td>\n",
       "    </tr>\n",
       "    <tr>\n",
       "      <th id=\"T_8357d_level0_row3\" class=\"row_heading level0 row3\" >Day 4</th>\n",
       "      <td id=\"T_8357d_row3_col0\" class=\"data row3 col0\" >Afte</td>\n",
       "      <td id=\"T_8357d_row3_col1\" class=\"data row3 col1\" >Rest</td>\n",
       "      <td id=\"T_8357d_row3_col2\" class=\"data row3 col2\" >Morn</td>\n",
       "      <td id=\"T_8357d_row3_col3\" class=\"data row3 col3\" >Nigh</td>\n",
       "      <td id=\"T_8357d_row3_col4\" class=\"data row3 col4\" >Rest</td>\n",
       "      <td id=\"T_8357d_row3_col5\" class=\"data row3 col5\" >Rest</td>\n",
       "      <td id=\"T_8357d_row3_col6\" class=\"data row3 col6\" >Noon</td>\n",
       "      <td id=\"T_8357d_row3_col7\" class=\"data row3 col7\" >Afte</td>\n",
       "      <td id=\"T_8357d_row3_col8\" class=\"data row3 col8\" >Morn</td>\n",
       "    </tr>\n",
       "    <tr>\n",
       "      <th id=\"T_8357d_level0_row4\" class=\"row_heading level0 row4\" >Day 5</th>\n",
       "      <td id=\"T_8357d_row4_col0\" class=\"data row4 col0\" >Noon</td>\n",
       "      <td id=\"T_8357d_row4_col1\" class=\"data row4 col1\" >Nigh</td>\n",
       "      <td id=\"T_8357d_row4_col2\" class=\"data row4 col2\" >Noon</td>\n",
       "      <td id=\"T_8357d_row4_col3\" class=\"data row4 col3\" >Rest</td>\n",
       "      <td id=\"T_8357d_row4_col4\" class=\"data row4 col4\" >Noon</td>\n",
       "      <td id=\"T_8357d_row4_col5\" class=\"data row4 col5\" >Afte</td>\n",
       "      <td id=\"T_8357d_row4_col6\" class=\"data row4 col6\" >Morn</td>\n",
       "      <td id=\"T_8357d_row4_col7\" class=\"data row4 col7\" >Rest</td>\n",
       "      <td id=\"T_8357d_row4_col8\" class=\"data row4 col8\" >Afte</td>\n",
       "    </tr>\n",
       "  </tbody>\n",
       "</table>\n"
      ],
      "text/plain": [
       "<pandas.io.formats.style.Styler at 0x7fdd6038eb20>"
      ]
     },
     "execution_count": 114,
     "metadata": {},
     "output_type": "execute_result"
    }
   ],
   "source": [
    "col = np.array([f\"Staff {staff}\" for staff in range(1,n+1)])\n",
    "row = days\n",
    "data2 = np.full((d,n),\"Rest\")\n",
    "for r in range(d):\n",
    "  for c in range(n):\n",
    "    for shift in range(1,5):\n",
    "      if S[c,r,shift] == 1:\n",
    "        data2[r,c] = shifts[shift-1]\n",
    "        break\n",
    "\n",
    "# Visualize details shift for each staff\n",
    "solution2 = pd.DataFrame(data = data2, index = row, columns = col)  \n",
    "solution2.style.applymap(status_color)"
   ]
  }
 ],
 "metadata": {
  "interpreter": {
   "hash": "618af10fdd433c84be79e5d9cef7a85d74ad68be7e2e9dd9461a47b527f16862"
  },
  "kernelspec": {
   "display_name": "Python 3.8.8 64-bit ('base': conda)",
   "language": "python",
   "name": "python3"
  },
  "language_info": {
   "codemirror_mode": {
    "name": "ipython",
    "version": 3
   },
   "file_extension": ".py",
   "mimetype": "text/x-python",
   "name": "python",
   "nbconvert_exporter": "python",
   "pygments_lexer": "ipython3",
   "version": "3.8.8"
  },
  "orig_nbformat": 4
 },
 "nbformat": 4,
 "nbformat_minor": 2
}
