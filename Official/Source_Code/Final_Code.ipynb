{
 "cells": [
  {
   "cell_type": "markdown",
   "metadata": {},
   "source": [
    "# 1. Data Processing"
   ]
  },
  {
   "cell_type": "markdown",
   "metadata": {},
   "source": [
    "## 1.1. Raw Data"
   ]
  },
  {
   "cell_type": "code",
   "execution_count": 50,
   "metadata": {},
   "outputs": [],
   "source": [
    "# Import the libraries \n",
    "import random\n",
    "import numpy as np\n",
    "import pandas as pd \n",
    "import matplotlib.pyplot as plt\n",
    "from time import time\n",
    "from ortools.sat.python import cp_model\n",
    "from ortools.linear_solver import pywraplp"
   ]
  },
  {
   "cell_type": "code",
   "execution_count": 6,
   "metadata": {},
   "outputs": [],
   "source": [
    "# Read Data \n",
    "def input_data(file):\n",
    "    with open(file, 'r') as file:\n",
    "        # read first line \n",
    "        N, D, a, b = [int(x) for x in file.readline().split()] \n",
    "\n",
    "        # Matrix (n,d) full 0, if staff i rest day d(i) -> convert to 1 \n",
    "        F = np.full((N, D), 0)  \n",
    "        for staff in range(N):\n",
    "            # read each line to end, [:-1] bcs end of each line is -1 \n",
    "            temp = [int(x) for x in file.readline().split()[:-1]]  #check each line from 2 -> i+1\n",
    "            for day in temp:\n",
    "                F[staff, day-1] = 1 # day-1 bcs index of list\n",
    "    return N, D, a, b, F\n",
    "\n",
    "# Input \n",
    "N, D, a, b, F = input_data(\"data.txt\")"
   ]
  },
  {
   "cell_type": "code",
   "execution_count": 7,
   "metadata": {},
   "outputs": [],
   "source": [
    "# Check status to apply color for each type of status\n",
    "def status_color(value):\n",
    "  if value == \"Rest\": \n",
    "    color = 'Green'\n",
    "  elif value == \"Nigh\":\n",
    "    color = 'Red'\n",
    "  else:\n",
    "    color = 'White'\n",
    "  return 'background-color: %s' % color"
   ]
  },
  {
   "cell_type": "markdown",
   "metadata": {},
   "source": [
    "## 1.2. Data Generations"
   ]
  },
  {
   "cell_type": "code",
   "execution_count": 8,
   "metadata": {},
   "outputs": [],
   "source": [
    "N, D, a, b, F = input_data(\"data.txt\")"
   ]
  },
  {
   "cell_type": "markdown",
   "metadata": {},
   "source": [
    "# 2. CSOP"
   ]
  },
  {
   "cell_type": "markdown",
   "metadata": {},
   "source": [
    "## 2.1 Optimization"
   ]
  },
  {
   "cell_type": "code",
   "execution_count": 9,
   "metadata": {},
   "outputs": [],
   "source": [
    "# Declare the Model \n",
    "model = cp_model.CpModel()\n",
    "\n",
    "# Create the Variables\n",
    "# X[staff, day, shift] = 1 if staff i work on shift k of day j \n",
    "# X[staff, day, shift] = 0, otw\n",
    "X = {} \n",
    "for staff in range(N):              # check each staff \n",
    "    for day in range(D):            # check each staff\n",
    "        for shift in range(1,5):    # check each shift\n",
    "            X[staff, day, shift] = model.NewIntVar(0,1,\"X[{},{},{}]\".format(staff,day,shift))"
   ]
  },
  {
   "cell_type": "code",
   "execution_count": 10,
   "metadata": {},
   "outputs": [],
   "source": [
    "# Each day, a staff can only work one shift at most\n",
    "for staff in range(N):    \n",
    "    for day in range(D):   \n",
    "        if F[staff, day] == 0:\n",
    "            if day == 0:\n",
    "                model.Add(sum([X[staff, day, shift] for shift in range(1,5)]) == 1)\n",
    "            # If you work the night shift the day before, you can rest the next day\n",
    "            else:\n",
    "                model.Add(sum([X[staff, day, shift] for shift in range(1,5)]) + X[staff, day - 1, 4] == 1)\n",
    "        else: # F[staff, day] == 1\n",
    "            model.Add(sum([X[staff, day, shift] for shift in range(1,5)]) == 0)"
   ]
  },
  {
   "cell_type": "code",
   "execution_count": 11,
   "metadata": {},
   "outputs": [],
   "source": [
    "# Each shift in each day has at least [a] staffs and at most [b] staffs\n",
    "for day in range(D):               \n",
    "    for shift in range(1,5):    \n",
    "        model.Add(sum([X[staff, day, shift] for staff in range(N)]) >= a)\n",
    "        model.Add(sum([X[staff, day, shift] for staff in range(N)]) <= b)"
   ]
  },
  {
   "cell_type": "code",
   "execution_count": 12,
   "metadata": {},
   "outputs": [],
   "source": [
    "# F(i): list of staff rest days i\n",
    "# The maximum number of night shifts assigned to a specific staff is the smallest\n",
    "\n",
    "max_night_shift = model.NewIntVar(1, int(D/2) + 1, 'max_night_shift') \n",
    "# for loop add constraint confirm sum of all night shift of staff <= max_night_shift\n",
    "for staff in range(N):\n",
    "    model.Add(sum([X[staff, day, 4] for day in range(D)]) - max_night_shift <= 0)"
   ]
  },
  {
   "cell_type": "code",
   "execution_count": 13,
   "metadata": {},
   "outputs": [
    {
     "name": "stdout",
     "output_type": "stream",
     "text": [
      "Optimal Value: 1\n",
      "Staff 1 works on day 1, at shift 1\n",
      "Staff 1 works on day 2, at shift 4\n",
      "Staff 1 works on day 4, at shift 3\n",
      "Staff 1 works on day 5, at shift 2\n",
      "Staff 2 works on day 1, at shift 2\n",
      "Staff 2 works on day 2, at shift 2\n",
      "Staff 2 works on day 3, at shift 1\n",
      "Staff 2 works on day 5, at shift 4\n",
      "Staff 3 works on day 1, at shift 3\n",
      "Staff 3 works on day 2, at shift 1\n",
      "Staff 3 works on day 3, at shift 2\n",
      "Staff 3 works on day 4, at shift 1\n",
      "Staff 3 works on day 5, at shift 2\n",
      "Staff 4 works on day 1, at shift 1\n",
      "Staff 4 works on day 2, at shift 1\n",
      "Staff 4 works on day 3, at shift 1\n",
      "Staff 4 works on day 4, at shift 4\n",
      "Staff 5 works on day 1, at shift 1\n",
      "Staff 5 works on day 2, at shift 3\n",
      "Staff 5 works on day 3, at shift 4\n",
      "Staff 5 works on day 5, at shift 2\n",
      "Staff 6 works on day 1, at shift 3\n",
      "Staff 6 works on day 2, at shift 3\n",
      "Staff 6 works on day 3, at shift 4\n",
      "Staff 6 works on day 5, at shift 3\n",
      "Staff 7 works on day 1, at shift 4\n",
      "Staff 7 works on day 3, at shift 1\n",
      "Staff 7 works on day 4, at shift 2\n",
      "Staff 7 works on day 5, at shift 1\n",
      "Staff 8 works on day 1, at shift 4\n",
      "Staff 8 works on day 3, at shift 3\n",
      "Staff 8 works on day 4, at shift 3\n",
      "Staff 9 works on day 1, at shift 3\n",
      "Staff 9 works on day 2, at shift 2\n",
      "Staff 9 works on day 3, at shift 2\n",
      "Staff 9 works on day 4, at shift 1\n",
      "Staff 9 works on day 5, at shift 3\n"
     ]
    }
   ],
   "source": [
    "# Objective Function\n",
    "model.Minimize(max_night_shift)\n",
    "\n",
    "# Solver\n",
    "solver = cp_model.CpSolver()\n",
    "status = solver.Solve(model)\n",
    "if __name__ == '__main__':\n",
    "  if status == cp_model.OPTIMAL:\n",
    "    print(\"Optimal Value:\", int(solver.ObjectiveValue()))\n",
    "    for staff in range(N):\n",
    "        for day in range(D):\n",
    "            for shift in range(1, 5):\n",
    "              if int(solver.Value(X[staff, day, shift])) == 1:\n",
    "                print(f'Staff {staff+1} works on day {day+1}, at shift {shift}')\n",
    "  else: \n",
    "    print(\"No Optimal Solution!\")"
   ]
  },
  {
   "cell_type": "markdown",
   "metadata": {},
   "source": [
    "## 2.2. Visualization"
   ]
  },
  {
   "cell_type": "code",
   "execution_count": 14,
   "metadata": {},
   "outputs": [
    {
     "data": {
      "text/html": [
       "<style type=\"text/css\">\n",
       "#T_c5b3f_row0_col0, #T_c5b3f_row0_col1, #T_c5b3f_row0_col2, #T_c5b3f_row0_col3, #T_c5b3f_row1_col1, #T_c5b3f_row1_col4, #T_c5b3f_row2_col0, #T_c5b3f_row2_col1, #T_c5b3f_row2_col3 {\n",
       "  background-color: #cccccc;\n",
       "  color: #000000;\n",
       "}\n",
       "#T_c5b3f_row0_col4, #T_c5b3f_row1_col0, #T_c5b3f_row1_col3, #T_c5b3f_row2_col2, #T_c5b3f_row3_col1, #T_c5b3f_row3_col3, #T_c5b3f_row3_col4 {\n",
       "  background-color: #b3e2cd;\n",
       "  color: #000000;\n",
       "}\n",
       "#T_c5b3f_row1_col2, #T_c5b3f_row2_col4, #T_c5b3f_row3_col0, #T_c5b3f_row3_col2 {\n",
       "  background-color: #e6f5c9;\n",
       "  color: #000000;\n",
       "}\n",
       "</style>\n",
       "<table id=\"T_c5b3f_\">\n",
       "  <thead>\n",
       "    <tr>\n",
       "      <th class=\"blank level0\" >&nbsp;</th>\n",
       "      <th class=\"col_heading level0 col0\" >Day 1</th>\n",
       "      <th class=\"col_heading level0 col1\" >Day 2</th>\n",
       "      <th class=\"col_heading level0 col2\" >Day 3</th>\n",
       "      <th class=\"col_heading level0 col3\" >Day 4</th>\n",
       "      <th class=\"col_heading level0 col4\" >Day 5</th>\n",
       "    </tr>\n",
       "  </thead>\n",
       "  <tbody>\n",
       "    <tr>\n",
       "      <th id=\"T_c5b3f_level0_row0\" class=\"row_heading level0 row0\" >Morning</th>\n",
       "      <td id=\"T_c5b3f_row0_col0\" class=\"data row0 col0\" >3</td>\n",
       "      <td id=\"T_c5b3f_row0_col1\" class=\"data row0 col1\" >2</td>\n",
       "      <td id=\"T_c5b3f_row0_col2\" class=\"data row0 col2\" >3</td>\n",
       "      <td id=\"T_c5b3f_row0_col3\" class=\"data row0 col3\" >2</td>\n",
       "      <td id=\"T_c5b3f_row0_col4\" class=\"data row0 col4\" >1</td>\n",
       "    </tr>\n",
       "    <tr>\n",
       "      <th id=\"T_c5b3f_level0_row1\" class=\"row_heading level0 row1\" >Noon</th>\n",
       "      <td id=\"T_c5b3f_row1_col0\" class=\"data row1 col0\" >1</td>\n",
       "      <td id=\"T_c5b3f_row1_col1\" class=\"data row1 col1\" >2</td>\n",
       "      <td id=\"T_c5b3f_row1_col2\" class=\"data row1 col2\" >2</td>\n",
       "      <td id=\"T_c5b3f_row1_col3\" class=\"data row1 col3\" >1</td>\n",
       "      <td id=\"T_c5b3f_row1_col4\" class=\"data row1 col4\" >3</td>\n",
       "    </tr>\n",
       "    <tr>\n",
       "      <th id=\"T_c5b3f_level0_row2\" class=\"row_heading level0 row2\" >Afternoon</th>\n",
       "      <td id=\"T_c5b3f_row2_col0\" class=\"data row2 col0\" >3</td>\n",
       "      <td id=\"T_c5b3f_row2_col1\" class=\"data row2 col1\" >2</td>\n",
       "      <td id=\"T_c5b3f_row2_col2\" class=\"data row2 col2\" >1</td>\n",
       "      <td id=\"T_c5b3f_row2_col3\" class=\"data row2 col3\" >2</td>\n",
       "      <td id=\"T_c5b3f_row2_col4\" class=\"data row2 col4\" >2</td>\n",
       "    </tr>\n",
       "    <tr>\n",
       "      <th id=\"T_c5b3f_level0_row3\" class=\"row_heading level0 row3\" >Night</th>\n",
       "      <td id=\"T_c5b3f_row3_col0\" class=\"data row3 col0\" >2</td>\n",
       "      <td id=\"T_c5b3f_row3_col1\" class=\"data row3 col1\" >1</td>\n",
       "      <td id=\"T_c5b3f_row3_col2\" class=\"data row3 col2\" >2</td>\n",
       "      <td id=\"T_c5b3f_row3_col3\" class=\"data row3 col3\" >1</td>\n",
       "      <td id=\"T_c5b3f_row3_col4\" class=\"data row3 col4\" >1</td>\n",
       "    </tr>\n",
       "  </tbody>\n",
       "</table>\n"
      ],
      "text/plain": [
       "<pandas.io.formats.style.Styler at 0x7f7aa041b3a0>"
      ]
     },
     "execution_count": 14,
     "metadata": {},
     "output_type": "execute_result"
    }
   ],
   "source": [
    "# Matrix (n,d,s=5) full 0, if staff i works day j, shift k -> 1 add to matrix; 0 otw\n",
    "# S is work calendar of each staff, day is column & 5 is shift\n",
    "S = np.full((N, D, 5), 0)\n",
    "\n",
    "for staff in range(N):\n",
    "    for day in range(D):\n",
    "        for shift in range(1,5):\n",
    "            S[staff, day, shift] = int(solver.Value(X[staff, day, shift])) # return {0;1}\n",
    "\n",
    "# Label days & Shift to visualize\n",
    "days = np.array([f\"Day {day}\" for day in range(1,D+1)])\n",
    "shifts = np.array([\"Morning\", \"Noon\", \"Afternoon\", \"Night\"])\n",
    "\n",
    "# Flat S by axis 0, use sum to return matrix include sum staff for each shift day\n",
    "staff_per_shift = np.sum(S, axis=0)\n",
    "# Create pandas DF to visualize\n",
    "df_staff_shift = pd.DataFrame(data=staff_per_shift[:, 1:].T, index=shifts, columns=days)\n",
    "\n",
    "# Visualize number staffs for each shift of day\n",
    "df_staff_shift.style.background_gradient(cmap='Pastel2')"
   ]
  },
  {
   "cell_type": "code",
   "execution_count": 15,
   "metadata": {},
   "outputs": [
    {
     "data": {
      "text/html": [
       "<style type=\"text/css\">\n",
       "#T_10c4d_row0_col0, #T_10c4d_row0_col1, #T_10c4d_row0_col2, #T_10c4d_row0_col3, #T_10c4d_row0_col4, #T_10c4d_row0_col5, #T_10c4d_row0_col8, #T_10c4d_row1_col1, #T_10c4d_row1_col2, #T_10c4d_row1_col3, #T_10c4d_row1_col4, #T_10c4d_row1_col5, #T_10c4d_row1_col8, #T_10c4d_row2_col1, #T_10c4d_row2_col2, #T_10c4d_row2_col3, #T_10c4d_row2_col6, #T_10c4d_row2_col7, #T_10c4d_row2_col8, #T_10c4d_row3_col0, #T_10c4d_row3_col2, #T_10c4d_row3_col6, #T_10c4d_row3_col7, #T_10c4d_row3_col8, #T_10c4d_row4_col0, #T_10c4d_row4_col2, #T_10c4d_row4_col4, #T_10c4d_row4_col5, #T_10c4d_row4_col6, #T_10c4d_row4_col8 {\n",
       "  background-color: White;\n",
       "}\n",
       "#T_10c4d_row0_col6, #T_10c4d_row0_col7, #T_10c4d_row1_col0, #T_10c4d_row2_col4, #T_10c4d_row2_col5, #T_10c4d_row3_col3, #T_10c4d_row4_col1 {\n",
       "  background-color: Red;\n",
       "}\n",
       "#T_10c4d_row1_col6, #T_10c4d_row1_col7, #T_10c4d_row2_col0, #T_10c4d_row3_col1, #T_10c4d_row3_col4, #T_10c4d_row3_col5, #T_10c4d_row4_col3, #T_10c4d_row4_col7 {\n",
       "  background-color: Green;\n",
       "}\n",
       "</style>\n",
       "<table id=\"T_10c4d_\">\n",
       "  <thead>\n",
       "    <tr>\n",
       "      <th class=\"blank level0\" >&nbsp;</th>\n",
       "      <th class=\"col_heading level0 col0\" >Staff 1</th>\n",
       "      <th class=\"col_heading level0 col1\" >Staff 2</th>\n",
       "      <th class=\"col_heading level0 col2\" >Staff 3</th>\n",
       "      <th class=\"col_heading level0 col3\" >Staff 4</th>\n",
       "      <th class=\"col_heading level0 col4\" >Staff 5</th>\n",
       "      <th class=\"col_heading level0 col5\" >Staff 6</th>\n",
       "      <th class=\"col_heading level0 col6\" >Staff 7</th>\n",
       "      <th class=\"col_heading level0 col7\" >Staff 8</th>\n",
       "      <th class=\"col_heading level0 col8\" >Staff 9</th>\n",
       "    </tr>\n",
       "  </thead>\n",
       "  <tbody>\n",
       "    <tr>\n",
       "      <th id=\"T_10c4d_level0_row0\" class=\"row_heading level0 row0\" >Day 1</th>\n",
       "      <td id=\"T_10c4d_row0_col0\" class=\"data row0 col0\" >Morn</td>\n",
       "      <td id=\"T_10c4d_row0_col1\" class=\"data row0 col1\" >Noon</td>\n",
       "      <td id=\"T_10c4d_row0_col2\" class=\"data row0 col2\" >Afte</td>\n",
       "      <td id=\"T_10c4d_row0_col3\" class=\"data row0 col3\" >Morn</td>\n",
       "      <td id=\"T_10c4d_row0_col4\" class=\"data row0 col4\" >Morn</td>\n",
       "      <td id=\"T_10c4d_row0_col5\" class=\"data row0 col5\" >Afte</td>\n",
       "      <td id=\"T_10c4d_row0_col6\" class=\"data row0 col6\" >Nigh</td>\n",
       "      <td id=\"T_10c4d_row0_col7\" class=\"data row0 col7\" >Nigh</td>\n",
       "      <td id=\"T_10c4d_row0_col8\" class=\"data row0 col8\" >Afte</td>\n",
       "    </tr>\n",
       "    <tr>\n",
       "      <th id=\"T_10c4d_level0_row1\" class=\"row_heading level0 row1\" >Day 2</th>\n",
       "      <td id=\"T_10c4d_row1_col0\" class=\"data row1 col0\" >Nigh</td>\n",
       "      <td id=\"T_10c4d_row1_col1\" class=\"data row1 col1\" >Noon</td>\n",
       "      <td id=\"T_10c4d_row1_col2\" class=\"data row1 col2\" >Morn</td>\n",
       "      <td id=\"T_10c4d_row1_col3\" class=\"data row1 col3\" >Morn</td>\n",
       "      <td id=\"T_10c4d_row1_col4\" class=\"data row1 col4\" >Afte</td>\n",
       "      <td id=\"T_10c4d_row1_col5\" class=\"data row1 col5\" >Afte</td>\n",
       "      <td id=\"T_10c4d_row1_col6\" class=\"data row1 col6\" >Rest</td>\n",
       "      <td id=\"T_10c4d_row1_col7\" class=\"data row1 col7\" >Rest</td>\n",
       "      <td id=\"T_10c4d_row1_col8\" class=\"data row1 col8\" >Noon</td>\n",
       "    </tr>\n",
       "    <tr>\n",
       "      <th id=\"T_10c4d_level0_row2\" class=\"row_heading level0 row2\" >Day 3</th>\n",
       "      <td id=\"T_10c4d_row2_col0\" class=\"data row2 col0\" >Rest</td>\n",
       "      <td id=\"T_10c4d_row2_col1\" class=\"data row2 col1\" >Morn</td>\n",
       "      <td id=\"T_10c4d_row2_col2\" class=\"data row2 col2\" >Noon</td>\n",
       "      <td id=\"T_10c4d_row2_col3\" class=\"data row2 col3\" >Morn</td>\n",
       "      <td id=\"T_10c4d_row2_col4\" class=\"data row2 col4\" >Nigh</td>\n",
       "      <td id=\"T_10c4d_row2_col5\" class=\"data row2 col5\" >Nigh</td>\n",
       "      <td id=\"T_10c4d_row2_col6\" class=\"data row2 col6\" >Morn</td>\n",
       "      <td id=\"T_10c4d_row2_col7\" class=\"data row2 col7\" >Afte</td>\n",
       "      <td id=\"T_10c4d_row2_col8\" class=\"data row2 col8\" >Noon</td>\n",
       "    </tr>\n",
       "    <tr>\n",
       "      <th id=\"T_10c4d_level0_row3\" class=\"row_heading level0 row3\" >Day 4</th>\n",
       "      <td id=\"T_10c4d_row3_col0\" class=\"data row3 col0\" >Afte</td>\n",
       "      <td id=\"T_10c4d_row3_col1\" class=\"data row3 col1\" >Rest</td>\n",
       "      <td id=\"T_10c4d_row3_col2\" class=\"data row3 col2\" >Morn</td>\n",
       "      <td id=\"T_10c4d_row3_col3\" class=\"data row3 col3\" >Nigh</td>\n",
       "      <td id=\"T_10c4d_row3_col4\" class=\"data row3 col4\" >Rest</td>\n",
       "      <td id=\"T_10c4d_row3_col5\" class=\"data row3 col5\" >Rest</td>\n",
       "      <td id=\"T_10c4d_row3_col6\" class=\"data row3 col6\" >Noon</td>\n",
       "      <td id=\"T_10c4d_row3_col7\" class=\"data row3 col7\" >Afte</td>\n",
       "      <td id=\"T_10c4d_row3_col8\" class=\"data row3 col8\" >Morn</td>\n",
       "    </tr>\n",
       "    <tr>\n",
       "      <th id=\"T_10c4d_level0_row4\" class=\"row_heading level0 row4\" >Day 5</th>\n",
       "      <td id=\"T_10c4d_row4_col0\" class=\"data row4 col0\" >Noon</td>\n",
       "      <td id=\"T_10c4d_row4_col1\" class=\"data row4 col1\" >Nigh</td>\n",
       "      <td id=\"T_10c4d_row4_col2\" class=\"data row4 col2\" >Noon</td>\n",
       "      <td id=\"T_10c4d_row4_col3\" class=\"data row4 col3\" >Rest</td>\n",
       "      <td id=\"T_10c4d_row4_col4\" class=\"data row4 col4\" >Noon</td>\n",
       "      <td id=\"T_10c4d_row4_col5\" class=\"data row4 col5\" >Afte</td>\n",
       "      <td id=\"T_10c4d_row4_col6\" class=\"data row4 col6\" >Morn</td>\n",
       "      <td id=\"T_10c4d_row4_col7\" class=\"data row4 col7\" >Rest</td>\n",
       "      <td id=\"T_10c4d_row4_col8\" class=\"data row4 col8\" >Afte</td>\n",
       "    </tr>\n",
       "  </tbody>\n",
       "</table>\n"
      ],
      "text/plain": [
       "<pandas.io.formats.style.Styler at 0x7f7aa040a490>"
      ]
     },
     "execution_count": 15,
     "metadata": {},
     "output_type": "execute_result"
    }
   ],
   "source": [
    "col = np.array([f\"Staff {staff}\" for staff in range(1,N+1)])\n",
    "row = days\n",
    "details = np.full((D,N),\"Rest\")\n",
    "\n",
    "for day in range(D):\n",
    "  for staff in range(N):\n",
    "    for shift in range(1,5):\n",
    "      if S[staff, day, shift] == 1:\n",
    "        details[day,staff] = shifts[shift-1]\n",
    "        break\n",
    "\n",
    "# Visualize details shift for each staff\n",
    "pf_details = pd.DataFrame(data = details, index = row, columns = col)  \n",
    "pf_details.style.applymap(status_color)"
   ]
  },
  {
   "cell_type": "markdown",
   "metadata": {},
   "source": [
    "# 3. IP"
   ]
  },
  {
   "cell_type": "markdown",
   "metadata": {},
   "source": [
    "## 3.1. Optimization"
   ]
  },
  {
   "cell_type": "code",
   "execution_count": 16,
   "metadata": {},
   "outputs": [],
   "source": [
    "solver = pywraplp.Solver('ROSTERING_MIP', pywraplp.Solver.CBC_MIXED_INTEGER_PROGRAMMING)\n",
    "INF = solver.infinity()\n",
    "\n",
    "# DECISION VARIABLES\n",
    "x = {}\n",
    "for i in range(N):\n",
    "    for j in range(D):\n",
    "        for k in range(1, 5):\n",
    "            x[i, j, k] = solver.IntVar(0, 1, f'x[{i}, {j}, {k}]')\n",
    "\n",
    "z = solver.IntVar(0, D, 'z')  # z is an auxiliary variable to facilitate the objective function"
   ]
  },
  {
   "cell_type": "code",
   "execution_count": 17,
   "metadata": {},
   "outputs": [],
   "source": [
    "# CONSTRAINTS\n",
    "# Each employee works no more than one shift every day\n",
    "for i in range(N):\n",
    "    for j in range(D):\n",
    "        if F[i][j] == 0:\n",
    "            cstr = solver.Constraint(-INF, 1)\n",
    "            for k in range(1, 5):\n",
    "                cstr.SetCoefficient(x[i, j, k], 1)\n",
    "            if j != 0:\n",
    "                cstr.SetCoefficient(x[i, j-1, 4], 1)"
   ]
  },
  {
   "cell_type": "code",
   "execution_count": 18,
   "metadata": {},
   "outputs": [],
   "source": [
    "# Employees can have a day off after having a night shift on the previous day\n",
    "for i in range(N):\n",
    "    for j in range(D):\n",
    "        if F[i][j] == 0:\n",
    "            cstr = solver.Constraint(1, 1)\n",
    "            for k in range(1, 5):\n",
    "                cstr.SetCoefficient(x[i, j, k], 1)\n",
    "                if j != 0:\n",
    "                    cstr.SetCoefficient(x[i, j-1, 4], 1)"
   ]
  },
  {
   "cell_type": "code",
   "execution_count": 19,
   "metadata": {},
   "outputs": [],
   "source": [
    "# Employees will not work on their off days\n",
    "for i in range(N):\n",
    "    for j in range(D):\n",
    "        if F[i][j] == 1:\n",
    "            cstr = solver.Constraint(0, 0)\n",
    "            for k in range(1, 5):\n",
    "                cstr.SetCoefficient(x[i, j, k], 1)"
   ]
  },
  {
   "cell_type": "code",
   "execution_count": 20,
   "metadata": {},
   "outputs": [],
   "source": [
    "# Each shift have at least alpha and beta employees at most\n",
    "for j in range(D):\n",
    "    for k in range(1, 5):\n",
    "        cstr = solver.Constraint(a, b)\n",
    "        for i in range(N):\n",
    "            cstr.SetCoefficient(x[i, j, k], 1)"
   ]
  },
  {
   "cell_type": "code",
   "execution_count": 21,
   "metadata": {},
   "outputs": [],
   "source": [
    "# OBJECTIVE FUNCTION\n",
    "for i in range(N):  # the maximum night shift of any employee is minimize\n",
    "    obj = solver.Constraint(0, INF)\n",
    "    for j in range(D):\n",
    "        obj.SetCoefficient(x[i, j, 4], -1)\n",
    "        obj.SetCoefficient(z, 1)"
   ]
  },
  {
   "cell_type": "code",
   "execution_count": 22,
   "metadata": {},
   "outputs": [
    {
     "name": "stdout",
     "output_type": "stream",
     "text": [
      "Optimal value: 1.0\n",
      "Employee 1 works on day 1, at shift 2\n",
      "Employee 1 works on day 2, at shift 2\n",
      "Employee 1 works on day 3, at shift 2\n",
      "Employee 1 works on day 4, at shift 2\n",
      "Employee 1 works on day 5, at shift 1\n",
      "Employee 2 works on day 1, at shift 4\n",
      "Employee 2 works on day 3, at shift 3\n",
      "Employee 2 works on day 5, at shift 3\n",
      "Employee 3 works on day 1, at shift 3\n",
      "Employee 3 works on day 2, at shift 3\n",
      "Employee 3 works on day 3, at shift 1\n",
      "Employee 3 works on day 4, at shift 3\n",
      "Employee 3 works on day 5, at shift 2\n",
      "Employee 4 works on day 1, at shift 1\n",
      "Employee 4 works on day 2, at shift 3\n",
      "Employee 4 works on day 3, at shift 2\n",
      "Employee 4 works on day 4, at shift 3\n",
      "Employee 4 works on day 5, at shift 4\n",
      "Employee 5 works on day 1, at shift 2\n",
      "Employee 5 works on day 2, at shift 1\n",
      "Employee 5 works on day 3, at shift 4\n",
      "Employee 5 works on day 5, at shift 1\n",
      "Employee 6 works on day 1, at shift 2\n",
      "Employee 6 works on day 2, at shift 1\n",
      "Employee 6 works on day 3, at shift 3\n",
      "Employee 6 works on day 4, at shift 3\n",
      "Employee 6 works on day 5, at shift 3\n",
      "Employee 7 works on day 1, at shift 1\n",
      "Employee 7 works on day 2, at shift 4\n",
      "Employee 7 works on day 4, at shift 2\n",
      "Employee 7 works on day 5, at shift 2\n",
      "Employee 8 works on day 1, at shift 3\n",
      "Employee 8 works on day 2, at shift 3\n",
      "Employee 8 works on day 3, at shift 1\n",
      "Employee 8 works on day 4, at shift 4\n",
      "Employee 9 works on day 1, at shift 1\n",
      "Employee 9 works on day 2, at shift 2\n",
      "Employee 9 works on day 3, at shift 2\n",
      "Employee 9 works on day 4, at shift 1\n",
      "Employee 9 works on day 5, at shift 3\n"
     ]
    }
   ],
   "source": [
    "solver.Minimize(z)\n",
    "status = solver.Solve()\n",
    "\n",
    "if __name__ == '__main__':\n",
    "    if status == pywraplp.Solver.OPTIMAL:\n",
    "        print('Optimal value:', solver.Objective().Value())\n",
    "        for i in range(N):\n",
    "            for j in range(D):\n",
    "                for k in range(1, 5):\n",
    "                    if x[i, j, k].solution_value() > 0:\n",
    "                        print(f'Employee {i+1} works on day {j+1}, at shift {k}')\n",
    "    else:\n",
    "        print(\"No optimal solution!\")"
   ]
  },
  {
   "cell_type": "markdown",
   "metadata": {},
   "source": [
    "## 3.2. Visualization"
   ]
  },
  {
   "cell_type": "code",
   "execution_count": 23,
   "metadata": {},
   "outputs": [
    {
     "data": {
      "text/html": [
       "<style type=\"text/css\">\n",
       "#T_95d5c_row0_col0, #T_95d5c_row1_col0, #T_95d5c_row1_col2, #T_95d5c_row2_col1, #T_95d5c_row2_col3, #T_95d5c_row2_col4 {\n",
       "  background-color: #f2f2f2;\n",
       "  color: #000000;\n",
       "}\n",
       "#T_95d5c_row0_col1, #T_95d5c_row0_col2, #T_95d5c_row0_col4, #T_95d5c_row1_col1, #T_95d5c_row1_col3, #T_95d5c_row1_col4, #T_95d5c_row2_col0, #T_95d5c_row2_col2 {\n",
       "  background-color: #fed9a6;\n",
       "  color: #000000;\n",
       "}\n",
       "#T_95d5c_row0_col3, #T_95d5c_row3_col0, #T_95d5c_row3_col1, #T_95d5c_row3_col2, #T_95d5c_row3_col3, #T_95d5c_row3_col4 {\n",
       "  background-color: #fbb4ae;\n",
       "  color: #000000;\n",
       "}\n",
       "</style>\n",
       "<table id=\"T_95d5c_\">\n",
       "  <thead>\n",
       "    <tr>\n",
       "      <th class=\"blank level0\" >&nbsp;</th>\n",
       "      <th class=\"col_heading level0 col0\" >Day 1</th>\n",
       "      <th class=\"col_heading level0 col1\" >Day 2</th>\n",
       "      <th class=\"col_heading level0 col2\" >Day 3</th>\n",
       "      <th class=\"col_heading level0 col3\" >Day 4</th>\n",
       "      <th class=\"col_heading level0 col4\" >Day 5</th>\n",
       "    </tr>\n",
       "  </thead>\n",
       "  <tbody>\n",
       "    <tr>\n",
       "      <th id=\"T_95d5c_level0_row0\" class=\"row_heading level0 row0\" >Morning</th>\n",
       "      <td id=\"T_95d5c_row0_col0\" class=\"data row0 col0\" >3</td>\n",
       "      <td id=\"T_95d5c_row0_col1\" class=\"data row0 col1\" >2</td>\n",
       "      <td id=\"T_95d5c_row0_col2\" class=\"data row0 col2\" >2</td>\n",
       "      <td id=\"T_95d5c_row0_col3\" class=\"data row0 col3\" >1</td>\n",
       "      <td id=\"T_95d5c_row0_col4\" class=\"data row0 col4\" >2</td>\n",
       "    </tr>\n",
       "    <tr>\n",
       "      <th id=\"T_95d5c_level0_row1\" class=\"row_heading level0 row1\" >Noon</th>\n",
       "      <td id=\"T_95d5c_row1_col0\" class=\"data row1 col0\" >3</td>\n",
       "      <td id=\"T_95d5c_row1_col1\" class=\"data row1 col1\" >2</td>\n",
       "      <td id=\"T_95d5c_row1_col2\" class=\"data row1 col2\" >3</td>\n",
       "      <td id=\"T_95d5c_row1_col3\" class=\"data row1 col3\" >2</td>\n",
       "      <td id=\"T_95d5c_row1_col4\" class=\"data row1 col4\" >2</td>\n",
       "    </tr>\n",
       "    <tr>\n",
       "      <th id=\"T_95d5c_level0_row2\" class=\"row_heading level0 row2\" >Afternoon</th>\n",
       "      <td id=\"T_95d5c_row2_col0\" class=\"data row2 col0\" >2</td>\n",
       "      <td id=\"T_95d5c_row2_col1\" class=\"data row2 col1\" >3</td>\n",
       "      <td id=\"T_95d5c_row2_col2\" class=\"data row2 col2\" >2</td>\n",
       "      <td id=\"T_95d5c_row2_col3\" class=\"data row2 col3\" >3</td>\n",
       "      <td id=\"T_95d5c_row2_col4\" class=\"data row2 col4\" >3</td>\n",
       "    </tr>\n",
       "    <tr>\n",
       "      <th id=\"T_95d5c_level0_row3\" class=\"row_heading level0 row3\" >Night</th>\n",
       "      <td id=\"T_95d5c_row3_col0\" class=\"data row3 col0\" >1</td>\n",
       "      <td id=\"T_95d5c_row3_col1\" class=\"data row3 col1\" >1</td>\n",
       "      <td id=\"T_95d5c_row3_col2\" class=\"data row3 col2\" >1</td>\n",
       "      <td id=\"T_95d5c_row3_col3\" class=\"data row3 col3\" >1</td>\n",
       "      <td id=\"T_95d5c_row3_col4\" class=\"data row3 col4\" >1</td>\n",
       "    </tr>\n",
       "  </tbody>\n",
       "</table>\n"
      ],
      "text/plain": [
       "<pandas.io.formats.style.Styler at 0x7f7ab2d9f160>"
      ]
     },
     "execution_count": 23,
     "metadata": {},
     "output_type": "execute_result"
    }
   ],
   "source": [
    "# Create S to store day rest of each staff\n",
    "# Definite shift > 0, so create S(N,D,5) with first col useless\n",
    "S = np.full((N, D, 5), 0)\n",
    "\n",
    "for staff in range(N):\n",
    "    for day in range(D):\n",
    "        for shift in range(1,5):\n",
    "            # add value to matrix S full 0 \n",
    "            S[staff, day, shift] = int(x[staff, day, shift].solution_value())\n",
    "\n",
    "shifts = np.array([\"Morning\", \"Noon\", \"Afternoon\", \"Night\"])\n",
    "days = np.array([f\"Day {day}\" for day in range(1,D+1)])\n",
    "day_shifts = np.sum(S, axis=0)\n",
    "day_shifts_solution = pd.DataFrame(data=day_shifts[:, 1:].T, index=shifts, columns=days)\n",
    "\n",
    "# Visualize number staffs for each shift of day\n",
    "day_shifts_solution.style.background_gradient(cmap='Pastel1')"
   ]
  },
  {
   "cell_type": "code",
   "execution_count": 24,
   "metadata": {},
   "outputs": [
    {
     "data": {
      "text/html": [
       "<style type=\"text/css\">\n",
       "#T_f0219_row0_col0, #T_f0219_row0_col2, #T_f0219_row0_col3, #T_f0219_row0_col4, #T_f0219_row0_col5, #T_f0219_row0_col6, #T_f0219_row0_col7, #T_f0219_row0_col8, #T_f0219_row1_col0, #T_f0219_row1_col2, #T_f0219_row1_col3, #T_f0219_row1_col4, #T_f0219_row1_col5, #T_f0219_row1_col7, #T_f0219_row1_col8, #T_f0219_row2_col0, #T_f0219_row2_col1, #T_f0219_row2_col2, #T_f0219_row2_col3, #T_f0219_row2_col5, #T_f0219_row2_col7, #T_f0219_row2_col8, #T_f0219_row3_col0, #T_f0219_row3_col2, #T_f0219_row3_col3, #T_f0219_row3_col5, #T_f0219_row3_col6, #T_f0219_row3_col8, #T_f0219_row4_col0, #T_f0219_row4_col1, #T_f0219_row4_col2, #T_f0219_row4_col4, #T_f0219_row4_col5, #T_f0219_row4_col6, #T_f0219_row4_col8 {\n",
       "  background-color: White;\n",
       "}\n",
       "#T_f0219_row0_col1, #T_f0219_row1_col6, #T_f0219_row2_col4, #T_f0219_row3_col7, #T_f0219_row4_col3 {\n",
       "  background-color: Red;\n",
       "}\n",
       "#T_f0219_row1_col1, #T_f0219_row2_col6, #T_f0219_row3_col1, #T_f0219_row3_col4, #T_f0219_row4_col7 {\n",
       "  background-color: Green;\n",
       "}\n",
       "</style>\n",
       "<table id=\"T_f0219_\">\n",
       "  <thead>\n",
       "    <tr>\n",
       "      <th class=\"blank level0\" >&nbsp;</th>\n",
       "      <th class=\"col_heading level0 col0\" >Staff 1</th>\n",
       "      <th class=\"col_heading level0 col1\" >Staff 2</th>\n",
       "      <th class=\"col_heading level0 col2\" >Staff 3</th>\n",
       "      <th class=\"col_heading level0 col3\" >Staff 4</th>\n",
       "      <th class=\"col_heading level0 col4\" >Staff 5</th>\n",
       "      <th class=\"col_heading level0 col5\" >Staff 6</th>\n",
       "      <th class=\"col_heading level0 col6\" >Staff 7</th>\n",
       "      <th class=\"col_heading level0 col7\" >Staff 8</th>\n",
       "      <th class=\"col_heading level0 col8\" >Staff 9</th>\n",
       "    </tr>\n",
       "  </thead>\n",
       "  <tbody>\n",
       "    <tr>\n",
       "      <th id=\"T_f0219_level0_row0\" class=\"row_heading level0 row0\" >Day 1</th>\n",
       "      <td id=\"T_f0219_row0_col0\" class=\"data row0 col0\" >Noon</td>\n",
       "      <td id=\"T_f0219_row0_col1\" class=\"data row0 col1\" >Nigh</td>\n",
       "      <td id=\"T_f0219_row0_col2\" class=\"data row0 col2\" >Afte</td>\n",
       "      <td id=\"T_f0219_row0_col3\" class=\"data row0 col3\" >Morn</td>\n",
       "      <td id=\"T_f0219_row0_col4\" class=\"data row0 col4\" >Noon</td>\n",
       "      <td id=\"T_f0219_row0_col5\" class=\"data row0 col5\" >Noon</td>\n",
       "      <td id=\"T_f0219_row0_col6\" class=\"data row0 col6\" >Morn</td>\n",
       "      <td id=\"T_f0219_row0_col7\" class=\"data row0 col7\" >Afte</td>\n",
       "      <td id=\"T_f0219_row0_col8\" class=\"data row0 col8\" >Morn</td>\n",
       "    </tr>\n",
       "    <tr>\n",
       "      <th id=\"T_f0219_level0_row1\" class=\"row_heading level0 row1\" >Day 2</th>\n",
       "      <td id=\"T_f0219_row1_col0\" class=\"data row1 col0\" >Noon</td>\n",
       "      <td id=\"T_f0219_row1_col1\" class=\"data row1 col1\" >Rest</td>\n",
       "      <td id=\"T_f0219_row1_col2\" class=\"data row1 col2\" >Afte</td>\n",
       "      <td id=\"T_f0219_row1_col3\" class=\"data row1 col3\" >Afte</td>\n",
       "      <td id=\"T_f0219_row1_col4\" class=\"data row1 col4\" >Morn</td>\n",
       "      <td id=\"T_f0219_row1_col5\" class=\"data row1 col5\" >Morn</td>\n",
       "      <td id=\"T_f0219_row1_col6\" class=\"data row1 col6\" >Nigh</td>\n",
       "      <td id=\"T_f0219_row1_col7\" class=\"data row1 col7\" >Afte</td>\n",
       "      <td id=\"T_f0219_row1_col8\" class=\"data row1 col8\" >Noon</td>\n",
       "    </tr>\n",
       "    <tr>\n",
       "      <th id=\"T_f0219_level0_row2\" class=\"row_heading level0 row2\" >Day 3</th>\n",
       "      <td id=\"T_f0219_row2_col0\" class=\"data row2 col0\" >Noon</td>\n",
       "      <td id=\"T_f0219_row2_col1\" class=\"data row2 col1\" >Afte</td>\n",
       "      <td id=\"T_f0219_row2_col2\" class=\"data row2 col2\" >Morn</td>\n",
       "      <td id=\"T_f0219_row2_col3\" class=\"data row2 col3\" >Noon</td>\n",
       "      <td id=\"T_f0219_row2_col4\" class=\"data row2 col4\" >Nigh</td>\n",
       "      <td id=\"T_f0219_row2_col5\" class=\"data row2 col5\" >Afte</td>\n",
       "      <td id=\"T_f0219_row2_col6\" class=\"data row2 col6\" >Rest</td>\n",
       "      <td id=\"T_f0219_row2_col7\" class=\"data row2 col7\" >Morn</td>\n",
       "      <td id=\"T_f0219_row2_col8\" class=\"data row2 col8\" >Noon</td>\n",
       "    </tr>\n",
       "    <tr>\n",
       "      <th id=\"T_f0219_level0_row3\" class=\"row_heading level0 row3\" >Day 4</th>\n",
       "      <td id=\"T_f0219_row3_col0\" class=\"data row3 col0\" >Noon</td>\n",
       "      <td id=\"T_f0219_row3_col1\" class=\"data row3 col1\" >Rest</td>\n",
       "      <td id=\"T_f0219_row3_col2\" class=\"data row3 col2\" >Afte</td>\n",
       "      <td id=\"T_f0219_row3_col3\" class=\"data row3 col3\" >Afte</td>\n",
       "      <td id=\"T_f0219_row3_col4\" class=\"data row3 col4\" >Rest</td>\n",
       "      <td id=\"T_f0219_row3_col5\" class=\"data row3 col5\" >Afte</td>\n",
       "      <td id=\"T_f0219_row3_col6\" class=\"data row3 col6\" >Noon</td>\n",
       "      <td id=\"T_f0219_row3_col7\" class=\"data row3 col7\" >Nigh</td>\n",
       "      <td id=\"T_f0219_row3_col8\" class=\"data row3 col8\" >Morn</td>\n",
       "    </tr>\n",
       "    <tr>\n",
       "      <th id=\"T_f0219_level0_row4\" class=\"row_heading level0 row4\" >Day 5</th>\n",
       "      <td id=\"T_f0219_row4_col0\" class=\"data row4 col0\" >Morn</td>\n",
       "      <td id=\"T_f0219_row4_col1\" class=\"data row4 col1\" >Afte</td>\n",
       "      <td id=\"T_f0219_row4_col2\" class=\"data row4 col2\" >Noon</td>\n",
       "      <td id=\"T_f0219_row4_col3\" class=\"data row4 col3\" >Nigh</td>\n",
       "      <td id=\"T_f0219_row4_col4\" class=\"data row4 col4\" >Morn</td>\n",
       "      <td id=\"T_f0219_row4_col5\" class=\"data row4 col5\" >Afte</td>\n",
       "      <td id=\"T_f0219_row4_col6\" class=\"data row4 col6\" >Noon</td>\n",
       "      <td id=\"T_f0219_row4_col7\" class=\"data row4 col7\" >Rest</td>\n",
       "      <td id=\"T_f0219_row4_col8\" class=\"data row4 col8\" >Afte</td>\n",
       "    </tr>\n",
       "  </tbody>\n",
       "</table>\n"
      ],
      "text/plain": [
       "<pandas.io.formats.style.Styler at 0x7f7ab2da8280>"
      ]
     },
     "execution_count": 24,
     "metadata": {},
     "output_type": "execute_result"
    }
   ],
   "source": [
    "col = np.array([f\"Staff {staff}\" for staff in range(1,N+1)])\n",
    "row = days\n",
    "details_ip = np.full((D,N),\"Rest\")\n",
    "\n",
    "for r in range(D):\n",
    "  for c in range(N):\n",
    "    for shift in range(1,5):\n",
    "      if S[c,r,shift] == 1:\n",
    "        details_ip[r,c] = shifts[shift-1]\n",
    "        break\n",
    "\n",
    "# Visualize details shift for each staff\n",
    "pf_details_ip = pd.DataFrame(data = details_ip, index = row, columns = col)\n",
    "pf_details_ip.style.applymap(status_color)"
   ]
  },
  {
   "cell_type": "markdown",
   "metadata": {},
   "source": [
    "# 4. Heuristics"
   ]
  },
  {
   "cell_type": "markdown",
   "metadata": {},
   "source": [
    "## 4.1. Optimization"
   ]
  },
  {
   "cell_type": "markdown",
   "metadata": {},
   "source": [
    "**Idea**: For each day, we will assign employees to the night shift such that all the conditions are satisfied, and also\n",
    "incurs the smallest number of night shifts of employees (thus still optimising the total number of night shifts).\n",
    "\n",
    "\n",
    "Concretely, we will prioritise employees with minimal number of current night shifts and employees that have off days\n",
    "on the next day."
   ]
  },
  {
   "cell_type": "code",
   "execution_count": 25,
   "metadata": {},
   "outputs": [],
   "source": [
    "# Convert F to satisfy heuristics\n",
    "F = np.array(F)\n",
    "F = np.pad(F, ((0,0),(0,1)), mode='constant', constant_values=0)  # add another column of 0s for easier index"
   ]
  },
  {
   "cell_type": "code",
   "execution_count": 26,
   "metadata": {},
   "outputs": [],
   "source": [
    "def select(N, off_today, off_nextday, a, b):\n",
    "    '''\n",
    "    :param off_today: number of employees cannot work today\n",
    "    :param off_nextday: number of employees cannot work on the next day\n",
    "    :return: z = minimum value of the night shift of an employee\n",
    "    :return: add = number of employees need to add to suffice the bound\n",
    "    '''\n",
    "    z, add = 0, 0\n",
    "    # z is number of staff work night shift today\n",
    "    # add is number of staff need add for enough limit staff\n",
    "    upper_today = N - off_today - 4*a  # upper bound of the number of employees working in a shift today\n",
    "    lower_today = N - off_today - 4*b\n",
    "    # số nhân viên min cần có trong một ca của ngày hôm NAY: tổng nhân viên - số nhân viên không đi làm hôm nay - cận dưới của một ca (có 4 ca nên nhân 4)\n",
    "    # số nhân viên max cần có trong một ca của ngày hôm NAY: tổng nhân viên - số nhân viên không đi làm hôm nay - cận trên của một ca\n",
    "\n",
    "    if upper_today < a or lower_today > b:\n",
    "        return -1\n",
    "    else:\n",
    "        z = max(lower_today, a)  # giả sử z (số ca đêm hNAY) nhận giá trị ban đầu chính bằng cận dưới (việc này sẽ đảm bảo được rằng số ca đêm là ít nhất, vì nó chính bằng cận dưới)\n",
    "        # lower_today có thể nhận giá trị âm, vì vậy lấy max để đảm bảo giới hạn phải là dương\n",
    "\n",
    "\n",
    "    upper_nextday = N - off_nextday - z - 4*a  # vì có z nhân viên làm ca đêm hôm NAY rồi, nên hôm SAU có z nhân viên được nghỉ\n",
    "    lower_nextday = N - off_nextday - z - 4*b\n",
    "\n",
    "    if lower_nextday > b:  # nếu lower bound của ngày hôm sau lớn hơn b (giới hạn của đề bài) thì cắt bớt cho phù hợp\n",
    "        z += (lower_nextday - b)\n",
    "    elif upper_nextday < a:  # ngược lại, thấp hơn thì mình cần bổ sung\n",
    "        add = a - upper_nextday  # add employees to suffice the bound\n",
    "    else:  # đã đủ nhân viên\n",
    "        add = 0\n",
    "\n",
    "    if z > b or z < a or add > off_nextday:  # kiểm tra điều kiện tồn tại nghiệm\n",
    "        return -1\n",
    "    else:\n",
    "        return z, add\n"
   ]
  },
  {
   "cell_type": "code",
   "execution_count": 27,
   "metadata": {},
   "outputs": [],
   "source": [
    "def heuristics(N, D, a, b, F):\n",
    "    num_night = np.full(N, 0)  # number of night shifts of each employee\n",
    "    global x  # matrix solution\n",
    "\n",
    "    for j in range(D):\n",
    "        off_today = np.array(F[:, j][:N])  # binary list, cho biết nhân viên nào đi làm và nghỉ làm hôm NAY\n",
    "        # ví dụ: [0 0 0 1] tức là nhân viên cuối hôm nay  nghỉ (=1 là nghỉ)\n",
    "        #print(off_today)\n",
    "        off_nextday = np.array(F[:, j+1][:N])  # tương tự, nhưng của hôm SAU\n",
    "\n",
    "        if j != 0:  # nhân viên nào làm ca đêm hôm NAY thì sẽ được chuyển vào danh sách nghỉ của ngày hôm SAU\n",
    "            for i in range(N):\n",
    "                if x[i, j-1, 3] == 1:  # if employee i worked at the night shift on the previous day, then rest today\n",
    "                    off_today[i] = 1\n",
    "\n",
    "        # Select the possible minimum number of night shift\n",
    "        if select(N, sum(off_today), sum(off_nextday), a, b) is False:\n",
    "            print('No optimal solution found.')\n",
    "            return -1\n",
    "        else:\n",
    "            z, add = select(N, sum(off_today), sum(off_nextday), a, b)\n",
    "        remain = z - add\n",
    "\n",
    "        # Assign the employee with minimum number of night shift (and absent on the next day) to today's night shift\n",
    "        emp_off_nextday = np.array([i for i in range(len(off_nextday)) if off_nextday[i] == 1]) # chỉ số các nv nghỉ hsau\n",
    "        # ví dụ: [4] -> hôm sau chỉ có nhân viên số 4 nghỉ\n",
    "        off_night_nextday = np.array([num_night[i] for i in emp_off_nextday])\n",
    "        # trong số các nhân viên nghỉ vào ngày hôm sau, trích ra số ca đêm của nhân viên đó\n",
    "\n",
    "        while add > 0:\n",
    "            emp_index = np.argmin(off_night_nextday)  # lựa chọn ra nhân viên có số ca đêm ít nhất hiện tại\n",
    "            x[emp_off_nextday[emp_index], j, 3] = 1  # cho đi làm ca đêm\n",
    "            num_night[emp_off_nextday[emp_index]] += 1  # add 1 employee to today's night shift\n",
    "            # sau khi gán xong, mình phải đặt nhân viên này sang trạng thái nghỉ hnay\n",
    "            off_today[emp_off_nextday[emp_index]] = 1  # avoid working more than one shift in a day\n",
    "            add -= 1\n",
    "\n",
    "        # Assign other employees to the night shift if needed (choose among idle employees for today)\n",
    "        emp_work_today = np.array([i for i in range(len(off_today)) if off_today[i] != 1]) # = 0 : hnay đi làm được\n",
    "        work_night_today = np.array([num_night[i] for i in emp_work_today])  # số ca đêm của các nhân viên đi làm vào hNAY\n",
    "\n",
    "\n",
    "        while remain > 0:  # tương tự hàm trên\n",
    "            emp_index = np.argmin(work_night_today)\n",
    "            x[emp_work_today[emp_index], j, 3] = 1\n",
    "            num_night[emp_work_today[emp_index]] += 1\n",
    "            off_today[emp_work_today[emp_index]] = 1\n",
    "            remain -= 1\n",
    "\n",
    "        # Assign other employees to other shifts of today\n",
    "        i, k = 0, 0  # gán những nhân viên còn lại vào các ca sáng, trưa, và chiều\n",
    "        while i < N and k < 3:\n",
    "            if off_today[i] == 0:\n",
    "                x[i, j, k] = 1\n",
    "                off_today[i] = 1  # avoid assigning the same employee in a day\n",
    "                k = (k+1) % 3\n",
    "            i += 1\n",
    "    return max(num_night)"
   ]
  },
  {
   "cell_type": "code",
   "execution_count": 28,
   "metadata": {},
   "outputs": [
    {
     "name": "stdout",
     "output_type": "stream",
     "text": [
      "The optimal value is: 1\n",
      "The optimal solution is:\n",
      "Employee 1: works on day 1, at shift 4\n",
      "Employee 1: works on day 3, at shift 1\n",
      "Employee 1: works on day 4, at shift 1\n",
      "Employee 1: works on day 5, at shift 1\n",
      "Employee 2: works on day 1, at shift 1\n",
      "Employee 2: works on day 2, at shift 4\n",
      "Employee 2: works on day 5, at shift 2\n",
      "Employee 3: works on day 1, at shift 2\n",
      "Employee 3: works on day 2, at shift 1\n",
      "Employee 3: works on day 3, at shift 4\n",
      "Employee 3: works on day 5, at shift 3\n",
      "Employee 4: works on day 1, at shift 3\n",
      "Employee 4: works on day 2, at shift 2\n",
      "Employee 4: works on day 3, at shift 2\n",
      "Employee 4: works on day 4, at shift 4\n",
      "Employee 5: works on day 1, at shift 1\n",
      "Employee 5: works on day 2, at shift 3\n",
      "Employee 5: works on day 3, at shift 3\n",
      "Employee 5: works on day 4, at shift 2\n",
      "Employee 5: works on day 5, at shift 4\n",
      "Employee 6: works on day 1, at shift 2\n",
      "Employee 6: works on day 2, at shift 1\n",
      "Employee 6: works on day 3, at shift 1\n",
      "Employee 6: works on day 4, at shift 3\n",
      "Employee 6: works on day 5, at shift 1\n",
      "Employee 7: works on day 1, at shift 3\n",
      "Employee 7: works on day 2, at shift 2\n",
      "Employee 7: works on day 3, at shift 2\n",
      "Employee 7: works on day 4, at shift 1\n",
      "Employee 7: works on day 5, at shift 2\n",
      "Employee 8: works on day 1, at shift 1\n",
      "Employee 8: works on day 2, at shift 3\n",
      "Employee 8: works on day 3, at shift 3\n",
      "Employee 8: works on day 4, at shift 2\n",
      "Employee 9: works on day 1, at shift 2\n",
      "Employee 9: works on day 2, at shift 1\n",
      "Employee 9: works on day 3, at shift 1\n",
      "Employee 9: works on day 4, at shift 3\n",
      "Employee 9: works on day 5, at shift 3\n",
      "Total execution time: 0.0002810955047607422\n"
     ]
    }
   ],
   "source": [
    "if __name__ == '__main__':\n",
    "    x = np.full((N, D, 4), 0)  # solution matrix\n",
    "\n",
    "    start = time()\n",
    "    res = heuristics(N, D, a, b, F)\n",
    "    end = time()\n",
    "    print('The optimal value is:', res)\n",
    "    print('The optimal solution is:')\n",
    "\n",
    "    for i in range(N):\n",
    "        for j in range(D):\n",
    "            for k in range(4):\n",
    "                if x[i, j, k] == 1:\n",
    "                    print(f'Employee {i+1}: works on day {j+1}, at shift {k+1}')\n",
    "\n",
    "    # print(x)\n",
    "    print('Total execution time:', end-start)"
   ]
  },
  {
   "cell_type": "markdown",
   "metadata": {},
   "source": [
    "## 4.2. Visualization"
   ]
  },
  {
   "cell_type": "code",
   "execution_count": 29,
   "metadata": {},
   "outputs": [
    {
     "data": {
      "text/html": [
       "<style type=\"text/css\">\n",
       "#T_8d026_row0_col0, #T_8d026_row0_col1, #T_8d026_row0_col2, #T_8d026_row0_col3, #T_8d026_row0_col4, #T_8d026_row1_col0, #T_8d026_row1_col3, #T_8d026_row1_col4, #T_8d026_row2_col3, #T_8d026_row2_col4 {\n",
       "  background-color: #cccccc;\n",
       "  color: #000000;\n",
       "}\n",
       "#T_8d026_row1_col1, #T_8d026_row1_col2, #T_8d026_row2_col0, #T_8d026_row2_col1, #T_8d026_row2_col2 {\n",
       "  background-color: #e6f5c9;\n",
       "  color: #000000;\n",
       "}\n",
       "#T_8d026_row3_col0, #T_8d026_row3_col1, #T_8d026_row3_col2, #T_8d026_row3_col3, #T_8d026_row3_col4 {\n",
       "  background-color: #b3e2cd;\n",
       "  color: #000000;\n",
       "}\n",
       "</style>\n",
       "<table id=\"T_8d026_\">\n",
       "  <thead>\n",
       "    <tr>\n",
       "      <th class=\"blank level0\" >&nbsp;</th>\n",
       "      <th class=\"col_heading level0 col0\" >Day 1</th>\n",
       "      <th class=\"col_heading level0 col1\" >Day 2</th>\n",
       "      <th class=\"col_heading level0 col2\" >Day 3</th>\n",
       "      <th class=\"col_heading level0 col3\" >Day 4</th>\n",
       "      <th class=\"col_heading level0 col4\" >Day 5</th>\n",
       "    </tr>\n",
       "  </thead>\n",
       "  <tbody>\n",
       "    <tr>\n",
       "      <th id=\"T_8d026_level0_row0\" class=\"row_heading level0 row0\" >Morning</th>\n",
       "      <td id=\"T_8d026_row0_col0\" class=\"data row0 col0\" >3</td>\n",
       "      <td id=\"T_8d026_row0_col1\" class=\"data row0 col1\" >3</td>\n",
       "      <td id=\"T_8d026_row0_col2\" class=\"data row0 col2\" >3</td>\n",
       "      <td id=\"T_8d026_row0_col3\" class=\"data row0 col3\" >2</td>\n",
       "      <td id=\"T_8d026_row0_col4\" class=\"data row0 col4\" >2</td>\n",
       "    </tr>\n",
       "    <tr>\n",
       "      <th id=\"T_8d026_level0_row1\" class=\"row_heading level0 row1\" >Noon</th>\n",
       "      <td id=\"T_8d026_row1_col0\" class=\"data row1 col0\" >3</td>\n",
       "      <td id=\"T_8d026_row1_col1\" class=\"data row1 col1\" >2</td>\n",
       "      <td id=\"T_8d026_row1_col2\" class=\"data row1 col2\" >2</td>\n",
       "      <td id=\"T_8d026_row1_col3\" class=\"data row1 col3\" >2</td>\n",
       "      <td id=\"T_8d026_row1_col4\" class=\"data row1 col4\" >2</td>\n",
       "    </tr>\n",
       "    <tr>\n",
       "      <th id=\"T_8d026_level0_row2\" class=\"row_heading level0 row2\" >Afternoon</th>\n",
       "      <td id=\"T_8d026_row2_col0\" class=\"data row2 col0\" >2</td>\n",
       "      <td id=\"T_8d026_row2_col1\" class=\"data row2 col1\" >2</td>\n",
       "      <td id=\"T_8d026_row2_col2\" class=\"data row2 col2\" >2</td>\n",
       "      <td id=\"T_8d026_row2_col3\" class=\"data row2 col3\" >2</td>\n",
       "      <td id=\"T_8d026_row2_col4\" class=\"data row2 col4\" >2</td>\n",
       "    </tr>\n",
       "    <tr>\n",
       "      <th id=\"T_8d026_level0_row3\" class=\"row_heading level0 row3\" >Night</th>\n",
       "      <td id=\"T_8d026_row3_col0\" class=\"data row3 col0\" >1</td>\n",
       "      <td id=\"T_8d026_row3_col1\" class=\"data row3 col1\" >1</td>\n",
       "      <td id=\"T_8d026_row3_col2\" class=\"data row3 col2\" >1</td>\n",
       "      <td id=\"T_8d026_row3_col3\" class=\"data row3 col3\" >1</td>\n",
       "      <td id=\"T_8d026_row3_col4\" class=\"data row3 col4\" >1</td>\n",
       "    </tr>\n",
       "  </tbody>\n",
       "</table>\n"
      ],
      "text/plain": [
       "<pandas.io.formats.style.Styler at 0x7f7ab2dee430>"
      ]
     },
     "execution_count": 29,
     "metadata": {},
     "output_type": "execute_result"
    }
   ],
   "source": [
    "# column 5th is useless\n",
    "S = np.full((N, D, 5), 0)\n",
    "\n",
    "for staff in range(N):\n",
    "    for day in range(D):\n",
    "        for shift in range(4):\n",
    "            S[staff, day, shift] = int(x[staff, day, shift])\n",
    "\n",
    "shifts = np.array([\"Morning\", \"Noon\", \"Afternoon\", \"Night\"])\n",
    "days = np.array([f\"Day {day}\" for day in range(1,D+1)])\n",
    "day_shifts = np.sum(S, axis=0)\n",
    "day_shifts_solution = pd.DataFrame(data=day_shifts[:, :4].T, index=shifts, columns=days)\n",
    "\n",
    "# Visualize number staffs for each shift of day\n",
    "day_shifts_solution.style.background_gradient(cmap='Pastel2')"
   ]
  },
  {
   "cell_type": "code",
   "execution_count": 30,
   "metadata": {},
   "outputs": [
    {
     "data": {
      "text/html": [
       "<style type=\"text/css\">\n",
       "#T_0f8f6_row0_col0, #T_0f8f6_row1_col1, #T_0f8f6_row2_col2, #T_0f8f6_row3_col3, #T_0f8f6_row4_col4 {\n",
       "  background-color: Red;\n",
       "}\n",
       "#T_0f8f6_row0_col1, #T_0f8f6_row0_col2, #T_0f8f6_row0_col3, #T_0f8f6_row0_col4, #T_0f8f6_row0_col5, #T_0f8f6_row0_col6, #T_0f8f6_row0_col7, #T_0f8f6_row0_col8, #T_0f8f6_row1_col2, #T_0f8f6_row1_col3, #T_0f8f6_row1_col4, #T_0f8f6_row1_col5, #T_0f8f6_row1_col6, #T_0f8f6_row1_col7, #T_0f8f6_row1_col8, #T_0f8f6_row2_col0, #T_0f8f6_row2_col3, #T_0f8f6_row2_col4, #T_0f8f6_row2_col5, #T_0f8f6_row2_col6, #T_0f8f6_row2_col7, #T_0f8f6_row2_col8, #T_0f8f6_row3_col0, #T_0f8f6_row3_col4, #T_0f8f6_row3_col5, #T_0f8f6_row3_col6, #T_0f8f6_row3_col7, #T_0f8f6_row3_col8, #T_0f8f6_row4_col0, #T_0f8f6_row4_col1, #T_0f8f6_row4_col2, #T_0f8f6_row4_col5, #T_0f8f6_row4_col6, #T_0f8f6_row4_col8 {\n",
       "  background-color: White;\n",
       "}\n",
       "#T_0f8f6_row1_col0, #T_0f8f6_row2_col1, #T_0f8f6_row3_col1, #T_0f8f6_row3_col2, #T_0f8f6_row4_col3, #T_0f8f6_row4_col7 {\n",
       "  background-color: Green;\n",
       "}\n",
       "</style>\n",
       "<table id=\"T_0f8f6_\">\n",
       "  <thead>\n",
       "    <tr>\n",
       "      <th class=\"blank level0\" >&nbsp;</th>\n",
       "      <th class=\"col_heading level0 col0\" >Staff 1</th>\n",
       "      <th class=\"col_heading level0 col1\" >Staff 2</th>\n",
       "      <th class=\"col_heading level0 col2\" >Staff 3</th>\n",
       "      <th class=\"col_heading level0 col3\" >Staff 4</th>\n",
       "      <th class=\"col_heading level0 col4\" >Staff 5</th>\n",
       "      <th class=\"col_heading level0 col5\" >Staff 6</th>\n",
       "      <th class=\"col_heading level0 col6\" >Staff 7</th>\n",
       "      <th class=\"col_heading level0 col7\" >Staff 8</th>\n",
       "      <th class=\"col_heading level0 col8\" >Staff 9</th>\n",
       "    </tr>\n",
       "  </thead>\n",
       "  <tbody>\n",
       "    <tr>\n",
       "      <th id=\"T_0f8f6_level0_row0\" class=\"row_heading level0 row0\" >Day 1</th>\n",
       "      <td id=\"T_0f8f6_row0_col0\" class=\"data row0 col0\" >Nigh</td>\n",
       "      <td id=\"T_0f8f6_row0_col1\" class=\"data row0 col1\" >Morn</td>\n",
       "      <td id=\"T_0f8f6_row0_col2\" class=\"data row0 col2\" >Noon</td>\n",
       "      <td id=\"T_0f8f6_row0_col3\" class=\"data row0 col3\" >Afte</td>\n",
       "      <td id=\"T_0f8f6_row0_col4\" class=\"data row0 col4\" >Morn</td>\n",
       "      <td id=\"T_0f8f6_row0_col5\" class=\"data row0 col5\" >Noon</td>\n",
       "      <td id=\"T_0f8f6_row0_col6\" class=\"data row0 col6\" >Afte</td>\n",
       "      <td id=\"T_0f8f6_row0_col7\" class=\"data row0 col7\" >Morn</td>\n",
       "      <td id=\"T_0f8f6_row0_col8\" class=\"data row0 col8\" >Noon</td>\n",
       "    </tr>\n",
       "    <tr>\n",
       "      <th id=\"T_0f8f6_level0_row1\" class=\"row_heading level0 row1\" >Day 2</th>\n",
       "      <td id=\"T_0f8f6_row1_col0\" class=\"data row1 col0\" >Rest</td>\n",
       "      <td id=\"T_0f8f6_row1_col1\" class=\"data row1 col1\" >Nigh</td>\n",
       "      <td id=\"T_0f8f6_row1_col2\" class=\"data row1 col2\" >Morn</td>\n",
       "      <td id=\"T_0f8f6_row1_col3\" class=\"data row1 col3\" >Noon</td>\n",
       "      <td id=\"T_0f8f6_row1_col4\" class=\"data row1 col4\" >Afte</td>\n",
       "      <td id=\"T_0f8f6_row1_col5\" class=\"data row1 col5\" >Morn</td>\n",
       "      <td id=\"T_0f8f6_row1_col6\" class=\"data row1 col6\" >Noon</td>\n",
       "      <td id=\"T_0f8f6_row1_col7\" class=\"data row1 col7\" >Afte</td>\n",
       "      <td id=\"T_0f8f6_row1_col8\" class=\"data row1 col8\" >Morn</td>\n",
       "    </tr>\n",
       "    <tr>\n",
       "      <th id=\"T_0f8f6_level0_row2\" class=\"row_heading level0 row2\" >Day 3</th>\n",
       "      <td id=\"T_0f8f6_row2_col0\" class=\"data row2 col0\" >Morn</td>\n",
       "      <td id=\"T_0f8f6_row2_col1\" class=\"data row2 col1\" >Rest</td>\n",
       "      <td id=\"T_0f8f6_row2_col2\" class=\"data row2 col2\" >Nigh</td>\n",
       "      <td id=\"T_0f8f6_row2_col3\" class=\"data row2 col3\" >Noon</td>\n",
       "      <td id=\"T_0f8f6_row2_col4\" class=\"data row2 col4\" >Afte</td>\n",
       "      <td id=\"T_0f8f6_row2_col5\" class=\"data row2 col5\" >Morn</td>\n",
       "      <td id=\"T_0f8f6_row2_col6\" class=\"data row2 col6\" >Noon</td>\n",
       "      <td id=\"T_0f8f6_row2_col7\" class=\"data row2 col7\" >Afte</td>\n",
       "      <td id=\"T_0f8f6_row2_col8\" class=\"data row2 col8\" >Morn</td>\n",
       "    </tr>\n",
       "    <tr>\n",
       "      <th id=\"T_0f8f6_level0_row3\" class=\"row_heading level0 row3\" >Day 4</th>\n",
       "      <td id=\"T_0f8f6_row3_col0\" class=\"data row3 col0\" >Morn</td>\n",
       "      <td id=\"T_0f8f6_row3_col1\" class=\"data row3 col1\" >Rest</td>\n",
       "      <td id=\"T_0f8f6_row3_col2\" class=\"data row3 col2\" >Rest</td>\n",
       "      <td id=\"T_0f8f6_row3_col3\" class=\"data row3 col3\" >Nigh</td>\n",
       "      <td id=\"T_0f8f6_row3_col4\" class=\"data row3 col4\" >Noon</td>\n",
       "      <td id=\"T_0f8f6_row3_col5\" class=\"data row3 col5\" >Afte</td>\n",
       "      <td id=\"T_0f8f6_row3_col6\" class=\"data row3 col6\" >Morn</td>\n",
       "      <td id=\"T_0f8f6_row3_col7\" class=\"data row3 col7\" >Noon</td>\n",
       "      <td id=\"T_0f8f6_row3_col8\" class=\"data row3 col8\" >Afte</td>\n",
       "    </tr>\n",
       "    <tr>\n",
       "      <th id=\"T_0f8f6_level0_row4\" class=\"row_heading level0 row4\" >Day 5</th>\n",
       "      <td id=\"T_0f8f6_row4_col0\" class=\"data row4 col0\" >Morn</td>\n",
       "      <td id=\"T_0f8f6_row4_col1\" class=\"data row4 col1\" >Noon</td>\n",
       "      <td id=\"T_0f8f6_row4_col2\" class=\"data row4 col2\" >Afte</td>\n",
       "      <td id=\"T_0f8f6_row4_col3\" class=\"data row4 col3\" >Rest</td>\n",
       "      <td id=\"T_0f8f6_row4_col4\" class=\"data row4 col4\" >Nigh</td>\n",
       "      <td id=\"T_0f8f6_row4_col5\" class=\"data row4 col5\" >Morn</td>\n",
       "      <td id=\"T_0f8f6_row4_col6\" class=\"data row4 col6\" >Noon</td>\n",
       "      <td id=\"T_0f8f6_row4_col7\" class=\"data row4 col7\" >Rest</td>\n",
       "      <td id=\"T_0f8f6_row4_col8\" class=\"data row4 col8\" >Afte</td>\n",
       "    </tr>\n",
       "  </tbody>\n",
       "</table>\n"
      ],
      "text/plain": [
       "<pandas.io.formats.style.Styler at 0x7f7ab2dc4ac0>"
      ]
     },
     "execution_count": 30,
     "metadata": {},
     "output_type": "execute_result"
    }
   ],
   "source": [
    "col = np.array([f\"Staff {staff}\" for staff in range(1,N+1)])\n",
    "row = days\n",
    "details_heu = np.full((D,N),\"Rest\")\n",
    "\n",
    "for r in range(D):\n",
    "  for c in range(N):\n",
    "    for shift in range(1,5):\n",
    "      if S[c,r,shift-1] == 1:\n",
    "        details_heu[r,c] = shifts[shift-1]\n",
    "        break\n",
    "\n",
    "# Visualize details shift for each staff\n",
    "pf_details_heu = pd.DataFrame(data = details_heu, index = row, columns = col)\n",
    "pf_details_heu.style.applymap(status_color)"
   ]
  },
  {
   "cell_type": "markdown",
   "metadata": {},
   "source": [
    "# 5. Visualization"
   ]
  },
  {
   "cell_type": "markdown",
   "metadata": {},
   "source": [
    "## 5.1. [30 Days]"
   ]
  },
  {
   "cell_type": "code",
   "execution_count": 45,
   "metadata": {},
   "outputs": [],
   "source": [
    "# Read data\n",
    "df_ip_30 = pd.read_csv('running_time/IP_d30.csv', header = None)\n",
    "df_heu_30 = pd.read_csv('running_time/Heuristics_d30.csv', header = None)\n",
    "df_csp_30 = pd.read_csv('running_time/CSP_d30.csv', header = None)"
   ]
  },
  {
   "cell_type": "code",
   "execution_count": 46,
   "metadata": {},
   "outputs": [],
   "source": [
    "# CSOP\n",
    "df_csp_30.columns = ['N', 'CSOP']\n",
    "df_csp_30.set_index('N', inplace = True)\n",
    "df_csp_30['CSOP'] = df_csp_30['CSOP'].apply(np.log)"
   ]
  },
  {
   "cell_type": "code",
   "execution_count": 47,
   "metadata": {},
   "outputs": [],
   "source": [
    "# IP \n",
    "df_ip_30.columns = ['N', 'IP']\n",
    "df_ip_30.set_index('N', inplace = True)\n",
    "df_ip_30['IP'] = df_ip_30['IP'].apply(np.log)"
   ]
  },
  {
   "cell_type": "code",
   "execution_count": 48,
   "metadata": {},
   "outputs": [],
   "source": [
    "# Heuristics\n",
    "df_heu_30.columns = ['N', 'Heuristics']\n",
    "df_heu_30.set_index('N', inplace=True)\n",
    "df_heu_30['Heuristics'] = df_heu_30['Heuristics'].apply(np.log)"
   ]
  },
  {
   "cell_type": "code",
   "execution_count": 58,
   "metadata": {},
   "outputs": [
    {
     "data": {
      "image/png": "[encoded data removed]",
      "text/plain": [
       "<Figure size 1500x600 with 1 Axes>"
      ]
     },
     "metadata": {},
     "output_type": "display_data"
    }
   ],
   "source": [
    "# Visualize\n",
    "plt.figure(figsize=(15, 6))\n",
    "\n",
    "plt.plot(df_ip_30.index, df_ip_30['IP'], label='IP (log)')\n",
    "plt.plot(df_heu_30.index, df_heu_30['Heuristics'], label='Heuristics (log)')\n",
    "plt.plot(df_csp_30.index, df_csp_30['CSOP'], label='CSP (log)')\n",
    "plt.legend(loc='upper left')\n",
    "plt.suptitle('Running time comparison within a month (D = 30)')\n",
    "plt.xlabel('Number of employees')\n",
    "plt.ylabel('Running time (s)')\n",
    "plt.show();"
   ]
  },
  {
   "cell_type": "markdown",
   "metadata": {},
   "source": [
    "## 5.2. [180 Days]"
   ]
  },
  {
   "cell_type": "code",
   "execution_count": 60,
   "metadata": {},
   "outputs": [],
   "source": [
    "# Read data\n",
    "df_ip_180 = pd.read_csv('running_time/IP_d180.csv', header = None)\n",
    "df_heu_180 = pd.read_csv('running_time/Heuristics_d180.csv', header = None)"
   ]
  },
  {
   "cell_type": "code",
   "execution_count": null,
   "metadata": {},
   "outputs": [],
   "source": [
    "# IP \n",
    "df_ip_180.columns = ['N', 'IP']\n",
    "df_ip_180.set_index('N', inplace = True)\n",
    "df_ip_180['IP'] = df_ip_180['IP'].apply(np.log)"
   ]
  },
  {
   "cell_type": "code",
   "execution_count": null,
   "metadata": {},
   "outputs": [],
   "source": [
    "# Heuristics\n",
    "df_heu_180.columns = ['N', 'Heuristics']\n",
    "df_heu_180.set_index('N', inplace=True)\n",
    "df_heu_180['Heuristics'] = df_heu_180['Heuristics'].apply(np.log)"
   ]
  },
  {
   "cell_type": "code",
   "execution_count": null,
   "metadata": {},
   "outputs": [],
   "source": [
    "# Visualize\n",
    "plt.figure(figsize=(15, 6))\n",
    "\n",
    "plt.plot(df_ip_180.index, df_ip_180['IP'], label='IP (log)')\n",
    "plt.plot(df_heu_180.index, df_heu_180['Heuristics'], label='Heuristics (log)')\n",
    "plt.legend(loc='upper left')\n",
    "plt.suptitle('Running time comparison within 180 days (D = 180)')\n",
    "plt.xlabel('Number of employees')\n",
    "plt.ylabel('Running time (s)')"
   ]
  },
  {
   "cell_type": "markdown",
   "metadata": {},
   "source": [
    "## 5.3. [365 Days]"
   ]
  },
  {
   "cell_type": "code",
   "execution_count": null,
   "metadata": {},
   "outputs": [],
   "source": [
    "# Read Data\n",
    "df_ip_365 = pd.read_csv('running_time/IP_d365.csv', header=None)\n",
    "df_heu_365 = pd.read_csv('running_time/Heuristics_d365.csv', header=None)"
   ]
  },
  {
   "cell_type": "code",
   "execution_count": null,
   "metadata": {},
   "outputs": [],
   "source": [
    "# IP\n",
    "df_ip_365.columns = ['N', 'IP']\n",
    "df_ip_365.set_index('N', inplace=True)\n",
    "df_ip_365['IP'] = df_ip_365['IP'].apply(np.log)"
   ]
  },
  {
   "cell_type": "code",
   "execution_count": null,
   "metadata": {},
   "outputs": [],
   "source": [
    "# Heuristics\n",
    "df_heu_365.columns = ['N', 'Heuristics']\n",
    "df_heu_365.set_index('N', inplace=True)\n",
    "df_heu_365['Heuristics'] = df_heu_365['Heuristics'].apply(np.log)"
   ]
  },
  {
   "cell_type": "code",
   "execution_count": null,
   "metadata": {},
   "outputs": [],
   "source": [
    "# Visualize \n",
    "plt.figure(figsize=(15, 6))\n",
    "\n",
    "plt.plot(df_ip_365.index, df_ip_365['IP'], label='IP (log)')\n",
    "plt.plot(df_heu_365.index, df_heu_365['Heuristics'], label='Heuristics (log)')\n",
    "plt.legend(loc='upper left')\n",
    "plt.suptitle('Running time comparison within a year (D = 365)')\n",
    "plt.xlabel('Number of employees')\n",
    "plt.ylabel('Running time (s)')\n",
    "plt.savefig('d365.jpeg')"
   ]
  },
  {
   "cell_type": "markdown",
   "metadata": {},
   "source": [
    "## 5.4. Heuristics 1000 Days"
   ]
  },
  {
   "cell_type": "code",
   "execution_count": null,
   "metadata": {},
   "outputs": [],
   "source": [
    "# Read Data\n",
    "df_heu_1000 = pd.read_csv('running_time/Heuristics_d1000.csv', header=None)\n",
    "df_heu_1000.columns = ['N', 'Heuristics']\n",
    "df_heu_1000.set_index('N', inplace=True)"
   ]
  },
  {
   "cell_type": "code",
   "execution_count": null,
   "metadata": {},
   "outputs": [],
   "source": [
    "# Visualize\n",
    "plt.figure(figsize=(15, 6))\n",
    "\n",
    "plt.plot(df_heu_1000.index, df_heu_1000['Heuristics'])\n",
    "plt.suptitle('Running time of Heuristics algorithm within 1000 days')\n",
    "plt.xlabel('Number of employees')\n",
    "plt.ylabel('Running time (s)')"
   ]
  }
 ],
 "metadata": {
  "interpreter": {
   "hash": "618af10fdd433c84be79e5d9cef7a85d74ad68be7e2e9dd9461a47b527f16862"
  },
  "kernelspec": {
   "display_name": "Python 3.8.8 64-bit ('base': conda)",
   "language": "python",
   "name": "python3"
  },
  "language_info": {
   "codemirror_mode": {
    "name": "ipython",
    "version": 3
   },
   "file_extension": ".py",
   "mimetype": "text/x-python",
   "name": "python",
   "nbconvert_exporter": "python",
   "pygments_lexer": "ipython3",
   "version": "3.8.8"
  },
  "orig_nbformat": 4
 },
 "nbformat": 4,
 "nbformat_minor": 2
}
